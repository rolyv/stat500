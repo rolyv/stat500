{
 "cells": [
  {
   "cell_type": "markdown",
   "metadata": {},
   "source": [
    "---"
   ]
  },
  {
   "cell_type": "markdown",
   "metadata": {},
   "source": [
    "### Question 1"
   ]
  },
  {
   "cell_type": "code",
   "execution_count": 1,
   "metadata": {
    "collapsed": false,
    "scrolled": true
   },
   "outputs": [],
   "source": [
    "import numpy as np\n",
    "import pandas as pd\n",
    "\n",
    "# DDE to PCB ratios\n",
    "terrestrial = pd.Series([76.5,6.03,3.51,9.96,4.24,7.74,9.54,41.7,1.84,2.5,1.64])\n",
    "aquatic = pd.Series([.27,.61,.54,.14,.63,.23,.56,.48,.16,.18])\n",
    "\n",
    "df = pd.DataFrame({'terrestrial' : terrestrial, 'aquatic' : aquatic})"
   ]
  },
  {
   "cell_type": "markdown",
   "metadata": {},
   "source": [
    "####1a. Compute mean and median for 21 data points, ignoring type of feeder"
   ]
  },
  {
   "cell_type": "code",
   "execution_count": 2,
   "metadata": {
    "collapsed": false
   },
   "outputs": [
    {
     "name": "stdout",
     "output_type": "stream",
     "text": [
      "Combined mean: 8.04761904762\n",
      "Combined median: 1.64\n"
     ]
    }
   ],
   "source": [
    "combined = pd.concat([df[\"aquatic\"], df[\"terrestrial\"]])\n",
    "print \"Combined mean: %s\" % combined.mean()\n",
    "print \"Combined median: %s\" % combined.median()"
   ]
  },
  {
   "cell_type": "markdown",
   "metadata": {},
   "source": [
    "####1b. Compute mean and median separately for each type"
   ]
  },
  {
   "cell_type": "code",
   "execution_count": 3,
   "metadata": {
    "collapsed": false
   },
   "outputs": [
    {
     "name": "stdout",
     "output_type": "stream",
     "text": [
      "Aquatic mean: 0.38\n",
      "Aquatic median: 0.375\n",
      "Terrestrial mean: 15.0181818182\n",
      "Terrestrial median: 6.03\n"
     ]
    }
   ],
   "source": [
    "print \"Aquatic mean: %s\" % df[\"aquatic\"].mean()\n",
    "print \"Aquatic median: %s\" % df[\"aquatic\"].median()\n",
    "\n",
    "print \"Terrestrial mean: %s\" % df[\"terrestrial\"].mean()\n",
    "print \"Terrestrial median: %s\" % df[\"terrestrial\"].median()"
   ]
  },
  {
   "cell_type": "markdown",
   "metadata": {},
   "source": [
    "####1c. Comment on the relative sensitivity of the mean and median to extreme values in a data set"
   ]
  },
  {
   "cell_type": "code",
   "execution_count": 4,
   "metadata": {
    "collapsed": false
   },
   "outputs": [
    {
     "data": {
      "text/plain": [
       "5.2222222222222223"
      ]
     },
     "execution_count": 4,
     "metadata": {},
     "output_type": "execute_result"
    }
   ],
   "source": [
    "# trimming out 2 large values from terrestrial group\n",
    "df.terrestrial[df.terrestrial < 40].mean()"
   ]
  },
  {
   "cell_type": "markdown",
   "metadata": {},
   "source": [
    "The results show that the mean is more sensitive to extreme values than the median. I think it's most apparent when looking at the terrestrial values where the mean is ~15 and the median is ~6. Two large values sway the mean. If we took the mean without those two large values, the mean of the terrestrial data would be 5.22. "
   ]
  },
  {
   "cell_type": "markdown",
   "metadata": {},
   "source": [
    "####1d. Comment on the appropriateness of using mean and median as measure of central location for DDE to PCB ratio for two types of feeders."
   ]
  },
  {
   "cell_type": "markdown",
   "metadata": {},
   "source": [
    "I think that for the terrestrial group, the appropriate measure would be the median since the mean was swayed significantly by two larger values. For the aquatic group, either one would work since they are similar and the data is fairly evenly distributed."
   ]
  },
  {
   "cell_type": "markdown",
   "metadata": {},
   "source": [
    "####1e. Compute a measure of dispersion for the two types of feeder separately that is resistant"
   ]
  },
  {
   "cell_type": "code",
   "execution_count": 5,
   "metadata": {
    "collapsed": false,
    "scrolled": true
   },
   "outputs": [
    {
     "name": "stdout",
     "output_type": "stream",
     "text": [
      "Aquatic IQR: 0.3975\n",
      "Terrestrial IQR: 7.46\n"
     ]
    }
   ],
   "source": [
    "import mycode as m\n",
    "#importing mycode because Minitab's algorithm for quartiles does not \n",
    "#exist in python. Had to implement myself\n",
    "\n",
    "q_low = m.quartile(df.aquatic, 1)\n",
    "q_high = m.quartile(df.aquatic, 3)\n",
    "aquatic_iqr = q_high - q_low\n",
    "\n",
    "q_low = m.quartile(df.terrestrial, 1)\n",
    "q_high = m.quartile(df.terrestrial, 3)\n",
    "terrestrial_iqr = q_high - q_low\n",
    "\n",
    "print \"Aquatic IQR: %s\" % aquatic_iqr\n",
    "print \"Terrestrial IQR: %s\" % terrestrial_iqr"
   ]
  },
  {
   "cell_type": "markdown",
   "metadata": {},
   "source": [
    "####1f. Compute a measure of dispersion for the two types of feeder separately that is non resistant"
   ]
  },
  {
   "cell_type": "code",
   "execution_count": 6,
   "metadata": {
    "collapsed": false
   },
   "outputs": [
    {
     "name": "stdout",
     "output_type": "stream",
     "text": [
      "Aquatic range: 0.49\n",
      "Terrestrial range: 74.86\n"
     ]
    }
   ],
   "source": [
    "print \"Aquatic range: %s\" % (df.aquatic.max() - df.aquatic.min())\n",
    "print \"Terrestrial range: %s\" % (df.terrestrial.max() - df.terrestrial.min())"
   ]
  },
  {
   "cell_type": "markdown",
   "metadata": {},
   "source": [
    "---\n",
    "###Question 2"
   ]
  },
  {
   "cell_type": "markdown",
   "metadata": {},
   "source": [
    "####2a. When the data set has some extreme outliers, can we trim some of the data and use the trimmed data set to carry out analysis to make inference about the central location? "
   ]
  },
  {
   "cell_type": "markdown",
   "metadata": {},
   "source": [
    "Section 3.4 of the book says that by trimming the data we can get a more reliable measure of the central value. It then goes on to say that this is particularly important when the sample mean is used to predict the population central value. So the answer to the question is yes, trimming some of the data can be used to make inference about the central location. I think there are some caveats to this and one needs to be mindful about the data they are excluding. I think it's very possible that your data might be bimodal and you may be discarding evidence of that second mound if you don't have enough samples."
   ]
  },
  {
   "cell_type": "markdown",
   "metadata": {},
   "source": [
    "#### 2b. When the data set has some extreme outliers, can we trim some of the data and use the trimmed data set to carry out analysis to make inference about the dispersion of the population? "
   ]
  },
  {
   "cell_type": "markdown",
   "metadata": {},
   "source": [
    "I think it's possible to make meaningful observations about the dispersion of the data using a trimmed data set. The boxplot is a great way to visualize the variability of the data and it identifies the potential outliers that are outside of the lower/upper limits.\n",
    "\n",
    "I want to distinguish between \"observations\" and \"carrying out analysis/make inferences\". What I stated above is that using a boxplot, you can exclude outliers and still make meaningul observations. But I think that by trimming data, which significantly alters the standard deviation, you can't make any inferences about the population. \n",
    "\n",
    "I think the main difference between using trimmed data for inferring central location versus using trimmed data for inferring variability is that central location has other measures that you can use to validate the trimmed mean. You can compare it to the original median or mode to validate the impact of the trimming. But you don't have that safety net when using trimmed data for analyzing variability."
   ]
  },
  {
   "cell_type": "markdown",
   "metadata": {},
   "source": [
    "---\n",
    "###Question 3"
   ]
  },
  {
   "cell_type": "code",
   "execution_count": 7,
   "metadata": {
    "collapsed": false
   },
   "outputs": [],
   "source": [
    "supplier_1 = pd.Series([189.9,191.9,190.9,183.8,185.5,190.9,192.8,188.4,187.0])\n",
    "supplier_2 = pd.Series([158.6,156.4,157.7,154.1,152.3,159.5,158.1,150.9,156.9])\n",
    "supplier_3 = pd.Series([218.6,208.4,187.1,199.5,202.0,211.1,197.6,204.4,206.8])\n",
    "\n",
    "suppliers = pd.DataFrame({\"supplier_1\":supplier_1, \n",
    "                          \"supplier_2\":supplier_2, \n",
    "                          \"supplier_3\":supplier_3})"
   ]
  },
  {
   "cell_type": "markdown",
   "metadata": {},
   "source": [
    "####3a. Compute mean and standard deviation for each supplier"
   ]
  },
  {
   "cell_type": "code",
   "execution_count": 8,
   "metadata": {
    "collapsed": false
   },
   "outputs": [
    {
     "name": "stdout",
     "output_type": "stream",
     "text": [
      "Supplier 1: mean: 189.011111111, std dev: 3.05223051409\n",
      "Supplier 2: mean: 156.055555556, std dev: 2.96989524694\n",
      "Supplier 3: mean: 203.944444444, std dev: 8.95629821845\n"
     ]
    }
   ],
   "source": [
    "print \"Supplier 1: mean: %s, std dev: %s\" % \n",
    "        (suppliers.supplier_1.mean(), suppliers.supplier_1.std())\n",
    "print \"Supplier 2: mean: %s, std dev: %s\" % \n",
    "        (suppliers.supplier_2.mean(), suppliers.supplier_2.std())\n",
    "print \"Supplier 3: mean: %s, std dev: %s\" % \n",
    "        (suppliers.supplier_3.mean(), suppliers.supplier_3.std())"
   ]
  },
  {
   "cell_type": "markdown",
   "metadata": {},
   "source": [
    "####3b. Plot the data"
   ]
  },
  {
   "cell_type": "code",
   "execution_count": 9,
   "metadata": {
    "collapsed": false
   },
   "outputs": [
    {
     "data": {
      "image/png": "[encoded data removed]",
      "text/plain": [
       "<matplotlib.figure.Figure at 0x7fb2799ee5d0>"
      ]
     },
     "metadata": {},
     "output_type": "display_data"
    }
   ],
   "source": [
    "%matplotlib inline\n",
    "from matplotlib import pyplot as plt\n",
    "\n",
    "plt.hist(suppliers.supplier_1, label='Supplier 1', normed=True, color='g')\n",
    "plt.hist(suppliers.supplier_2, label='Supplier 2', normed=True, color='b')\n",
    "plt.hist(suppliers.supplier_3, label='Supplier 3', normed=True, color='r')\n",
    "plt.title(\"Supplier sample distances\")\n",
    "plt.xlabel(\"Sample distance\")\n",
    "plt.ylabel(\"Frequency\")\n",
    "plt.legend()\n",
    "\n",
    "plt.show()"
   ]
  },
  {
   "cell_type": "markdown",
   "metadata": {},
   "source": [
    "####3c. Which supplier appears to provide material that produces lenses having power closest to the target value?"
   ]
  },
  {
   "cell_type": "markdown",
   "metadata": {},
   "source": [
    "If I understood the question correctly, these values are distances from a target which means that Supplier 2 is clearly the winner since their distances are the lowest of the 3. The data suggests that on average, Supplier 2 is about 156 units away from their target whereas Suppliers 1 and 3 are about 189 and 204 units away from their target, respectively. "
   ]
  },
  {
   "cell_type": "markdown",
   "metadata": {},
   "source": [
    "---\n",
    "###Question 4"
   ]
  },
  {
   "cell_type": "code",
   "execution_count": 10,
   "metadata": {
    "collapsed": false
   },
   "outputs": [],
   "source": [
    "df = pd.DataFrame({\"demands\": pd.Series([28,50,193,65,4,7,147,76,10,0,10,\n",
    "                                         84,0,9,1,0,62,26,15,226,54,46,108,\n",
    "                                         4,105,40,4,273,184,7,55,41,26,6])})"
   ]
  },
  {
   "cell_type": "markdown",
   "metadata": {},
   "source": [
    "####4a. Calculate mean and median for the data"
   ]
  },
  {
   "cell_type": "code",
   "execution_count": 11,
   "metadata": {
    "collapsed": false
   },
   "outputs": [
    {
     "name": "stdout",
     "output_type": "stream",
     "text": [
      "Mean: 57.8235294118\n",
      "Median: 34.0\n"
     ]
    }
   ],
   "source": [
    "mean = df.demands.mean()\n",
    "median = df.demands.median()\n",
    "print \"Mean: %s\" % mean\n",
    "print \"Median: %s\" % median"
   ]
  },
  {
   "cell_type": "markdown",
   "metadata": {},
   "source": [
    "####4b. Which measure appears to best represent the center of the data?"
   ]
  },
  {
   "cell_type": "markdown",
   "metadata": {},
   "source": [
    "In this case, I think the median is a better measure of the center of the data since it is a resistant measure and this data is skewed right by a few extreme values."
   ]
  },
  {
   "cell_type": "markdown",
   "metadata": {},
   "source": [
    "####4c. Calculate range and standard deviation."
   ]
  },
  {
   "cell_type": "code",
   "execution_count": 12,
   "metadata": {
    "collapsed": false
   },
   "outputs": [
    {
     "name": "stdout",
     "output_type": "stream",
     "text": [
      "Range: 273\n",
      "Standard dev: 70.6873057003\n"
     ]
    }
   ],
   "source": [
    "dfRange = df.demands.max() - df.demands.min()\n",
    "stdDev = df.demands.std()\n",
    "print \"Range: %s\" % dfRange\n",
    "print \"Standard dev: %s\" % stdDev"
   ]
  },
  {
   "cell_type": "markdown",
   "metadata": {},
   "source": [
    "####4d. Use range to estimate std dev. How close is the approximation?"
   ]
  },
  {
   "cell_type": "code",
   "execution_count": 13,
   "metadata": {
    "collapsed": false
   },
   "outputs": [
    {
     "name": "stdout",
     "output_type": "stream",
     "text": [
      "Standard dev approximation: 68.25\n"
     ]
    }
   ],
   "source": [
    "print \"Standard dev approximation: %s\" % (dfRange / 4.)"
   ]
  },
  {
   "cell_type": "markdown",
   "metadata": {},
   "source": [
    "The approximation is actually pretty close to the true value. It's off by about 2.5 units (about 4%)"
   ]
  },
  {
   "cell_type": "markdown",
   "metadata": {},
   "source": [
    "####4e. Construct intervals for $\\bar{y} \\pm 1s, \\bar{y} \\pm 2s, \\bar{y} \\pm 3s$, count number of data falling in each interval, convert to percentages and compare with Empirical Rule."
   ]
  },
  {
   "cell_type": "code",
   "execution_count": 14,
   "metadata": {
    "collapsed": false,
    "scrolled": false
   },
   "outputs": [
    {
     "name": "stdout",
     "output_type": "stream",
     "text": [
      "[-12.8637762885, 128.510835112]: 29 items => 85.29%\n",
      "[-83.5510819888, 199.198140812]: 32 items => 94.12%\n",
      "[-154.238387689, 269.885446513]: 33 items => 97.06%\n"
     ]
    }
   ],
   "source": [
    "output = \"[{0[0]}, {0[1]}]: {1} items => {2:.2f}%\" #output format string\n",
    "\n",
    "firstInt = (mean - stdDev, mean + stdDev)\n",
    "firstIntValues = df[(df.demands >= firstInt[0]) & (df.demands <= firstInt[1])]\n",
    "firstCount = len(firstIntValues)\n",
    "firstPercentage = 100.0 * firstCount / len(df)\n",
    "print output.format(firstInt, firstCount, firstPercentage)\n",
    "\n",
    "secondInt = (mean - 2*stdDev, mean + 2*stdDev)\n",
    "secondIntValues = df[(df.demands >= secondInt[0]) & (df.demands <= secondInt[1])]\n",
    "secondCount = len(secondIntValues)\n",
    "secondPercentage = 100.0 * secondCount / len(df)\n",
    "print output.format(secondInt, secondCount, secondPercentage)\n",
    "\n",
    "thirdInt = (mean - 3*stdDev, mean + 3*stdDev)\n",
    "thirdIntValues = df[(df.demands >= thirdInt[0]) & (df.demands <= thirdInt[1])]\n",
    "thirdCount = len(thirdIntValues)\n",
    "thirdPercentage = 100.0 * thirdCount / len(df)\n",
    "print output.format(thirdInt, thirdCount, thirdPercentage)"
   ]
  },
  {
   "cell_type": "markdown",
   "metadata": {},
   "source": [
    "####4f. Why do you think the Empirical Rule and your percentages do not match well?"
   ]
  },
  {
   "cell_type": "code",
   "execution_count": 15,
   "metadata": {
    "collapsed": false
   },
   "outputs": [
    {
     "data": {
      "text/plain": [
       "<matplotlib.axes._subplots.AxesSubplot at 0x7fb25b18ac50>"
      ]
     },
     "execution_count": 15,
     "metadata": {},
     "output_type": "execute_result"
    },
    {
     "data": {
      "image/png": "[encoded data removed]",
      "text/plain": [
       "<matplotlib.figure.Figure at 0x7fb25b18a610>"
      ]
     },
     "metadata": {},
     "output_type": "display_data"
    }
   ],
   "source": [
    "df.plot(kind='hist')"
   ]
  },
  {
   "cell_type": "markdown",
   "metadata": {},
   "source": [
    "The empirical rule percentages did not match well with the percentages above because, as the histogram of the data shows, it is not evenly distributed. It has a large concentration of values on one side of the distribution and a few extreme outliers to the right. For this reason, over 85% of the values were within one standard deviation of the mean. "
   ]
  },
  {
   "cell_type": "markdown",
   "metadata": {},
   "source": [
    "---\n",
    "### Question 5"
   ]
  },
  {
   "cell_type": "code",
   "execution_count": 16,
   "metadata": {
    "collapsed": false
   },
   "outputs": [
    {
     "data": {
      "text/plain": [
       "<matplotlib.axes._subplots.AxesSubplot at 0x7fb25898a210>"
      ]
     },
     "execution_count": 16,
     "metadata": {},
     "output_type": "execute_result"
    },
    {
     "data": {
      "image/png": "[encoded data removed]",
      "text/plain": [
       "<matplotlib.figure.Figure at 0x7fb258932510>"
      ]
     },
     "metadata": {},
     "output_type": "display_data"
    }
   ],
   "source": [
    "df.plot(kind='box', vert=False, xlim=(-50,300))"
   ]
  },
  {
   "cell_type": "markdown",
   "metadata": {},
   "source": [
    "####5a. Is the data left-skewed, symmetric or right-skewed?"
   ]
  },
  {
   "cell_type": "markdown",
   "metadata": {},
   "source": [
    "The data is right-skewed as shown in Lesson 2.3. The box is longer towards the right, and the line from the 3rd quartile to the upper adjacent value is longer."
   ]
  },
  {
   "cell_type": "markdown",
   "metadata": {},
   "source": [
    "####5b. What are the outliers?"
   ]
  },
  {
   "cell_type": "markdown",
   "metadata": {},
   "source": [
    "The potential outliers are the values greater than 147: [ 184, 193, 226,  273 ]"
   ]
  },
  {
   "cell_type": "markdown",
   "metadata": {},
   "source": [
    "####5c. Is the median closer to the lower quartile or the upper quartile? Does that indicate that the density of data between first quartile and the median is higher than the density of data between the median and the third quartile?"
   ]
  },
  {
   "cell_type": "markdown",
   "metadata": {},
   "source": [
    "For this data, the median is closer to the lower quartile. In this scenario, there is a difference in density. There are many more points between the first quartile and the median than between the median and the third quartile. We can see that corroborated by the histogram above. However, I don't think that the median being closer to the lower quartile necessarily indicates that. It could also be a result of how sparse the data points are, especially with fewer samples."
   ]
  },
  {
   "cell_type": "markdown",
   "metadata": {},
   "source": [
    "---\n",
    "###Question 6"
   ]
  },
  {
   "cell_type": "code",
   "execution_count": 17,
   "metadata": {
    "collapsed": false
   },
   "outputs": [],
   "source": [
    "paperTowelData = pd.read_csv('hw2_paperTowelData.csv', index_col=None)\n",
    "pricePerRoll = paperTowelData['Price per Roll']\n",
    "pricePerSheet = paperTowelData['Price per Sheet']"
   ]
  },
  {
   "cell_type": "markdown",
   "metadata": {},
   "source": [
    "####6a. Compute standard deviation for both price per roll and price per sheet."
   ]
  },
  {
   "cell_type": "code",
   "execution_count": 18,
   "metadata": {
    "collapsed": false
   },
   "outputs": [
    {
     "name": "stdout",
     "output_type": "stream",
     "text": [
      "Price per roll std dev: 0.423304589347\n",
      "Price per sheet std dev: 0.00553029698864\n"
     ]
    }
   ],
   "source": [
    "print \"Price per roll std dev: %s\" % pricePerRoll.std()\n",
    "print \"Price per sheet std dev: %s\" % pricePerSheet.std()"
   ]
  },
  {
   "cell_type": "markdown",
   "metadata": {},
   "source": [
    "#### 6b. Which is more variable, price per roll or price per sheet? Should you use $s$ (standard deviation) or $CV$ (Coefficient of Variation)?"
   ]
  },
  {
   "cell_type": "code",
   "execution_count": 19,
   "metadata": {
    "collapsed": false
   },
   "outputs": [
    {
     "name": "stdout",
     "output_type": "stream",
     "text": [
      "Price per roll CV: 46.03%\n",
      "Price per sheet CV: 48.78%\n"
     ]
    }
   ],
   "source": [
    "perRollCV = pricePerRoll.std() / pricePerRoll.mean()\n",
    "perSheetCV = pricePerSheet.std() / pricePerSheet.mean()\n",
    "\n",
    "print \"Price per roll CV: %.2f%%\" % (perRollCV * 100)\n",
    "print \"Price per sheet CV: %.2f%%\" % (perSheetCV * 100)\n"
   ]
  },
  {
   "cell_type": "markdown",
   "metadata": {},
   "source": [
    "Although the price per roll has a higher standard deviation, the price per sheet has a higher CV, which indicates that the price per sheet has greater variability relative to the magnitude of it's mean."
   ]
  },
  {
   "cell_type": "markdown",
   "metadata": {},
   "source": [
    "#### 6c. Do you think that IQR is a good measure to compare the variability of these two variables?"
   ]
  },
  {
   "cell_type": "markdown",
   "metadata": {},
   "source": [
    "I think that IQR would be just as poor as standard deviation for comparing variability since both of those measures are in the same units as the data. That makes it difficult to compare across data sets."
   ]
  },
  {
   "cell_type": "markdown",
   "metadata": {},
   "source": [
    "---\n",
    "### Question 7"
   ]
  },
  {
   "cell_type": "code",
   "execution_count": 20,
   "metadata": {
    "collapsed": false
   },
   "outputs": [],
   "source": [
    "singerData = pd.read_csv('hw2_singers.csv')\n",
    "basses = singerData['Bass']\n",
    "sopranos = singerData['Soprano']\n",
    "altos = singerData['Alto']\n",
    "tenors = singerData['Tenor']"
   ]
  },
  {
   "cell_type": "markdown",
   "metadata": {},
   "source": [
    "#### 7a. Find descriptive statistics for each type of singer. For each case, does the approximate value of $s$ give a good estimate of $s$?"
   ]
  },
  {
   "cell_type": "code",
   "execution_count": 21,
   "metadata": {
    "collapsed": false
   },
   "outputs": [
    {
     "name": "stdout",
     "output_type": "stream",
     "text": [
      "Bass singers: \n",
      "count    36.000000\n",
      "mean     70.750000\n",
      "std       2.430461\n",
      "min      66.000000\n",
      "25%      69.000000\n",
      "50%      71.000000\n",
      "75%      72.000000\n",
      "max      75.000000\n",
      "Name: Bass, dtype: float64\n",
      "\n",
      "Alto singers: \n",
      "count    35.000000\n",
      "mean     64.885714\n",
      "std       2.794653\n",
      "min      60.000000\n",
      "25%      63.000000\n",
      "50%      65.000000\n",
      "75%      66.500000\n",
      "max      72.000000\n",
      "Name: Alto, dtype: float64\n",
      "\n",
      "Soprano singers: \n",
      "count    39.000000\n",
      "mean     64.717949\n",
      "std       2.459661\n",
      "min      60.000000\n",
      "25%      63.000000\n",
      "50%      65.000000\n",
      "75%      66.000000\n",
      "max      72.000000\n",
      "Name: Soprano, dtype: float64\n",
      "\n",
      "Tenor singers: \n",
      "count    20.000000\n",
      "mean     69.150000\n",
      "std       3.216323\n",
      "min      64.000000\n",
      "25%      66.750000\n",
      "50%      68.500000\n",
      "75%      71.250000\n",
      "max      76.000000\n",
      "Name: Tenor, dtype: float64\n",
      "\n"
     ]
    }
   ],
   "source": [
    "print \"Bass singers: \\n%s\\n\" % basses.describe()\n",
    "print \"Alto singers: \\n%s\\n\" % altos.describe()\n",
    "print \"Soprano singers: \\n%s\\n\" % sopranos.describe()\n",
    "print \"Tenor singers: \\n%s\\n\" % tenors.describe()"
   ]
  },
  {
   "cell_type": "code",
   "execution_count": 22,
   "metadata": {
    "collapsed": false
   },
   "outputs": [
    {
     "name": "stdout",
     "output_type": "stream",
     "text": [
      "Bass approx s: 2.25\n",
      "Alot approx s: 3.0\n",
      "Soprano approx s: 3.0\n",
      "Tenor approx s: 3.0\n"
     ]
    }
   ],
   "source": [
    "print \"Bass approx s: %s\" % ((basses.max() - basses.min()) / 4.)\n",
    "print \"Alot approx s: %s\" % ((altos.max() - altos.min()) / 4.)\n",
    "print \"Soprano approx s: %s\" % ((sopranos.max() - sopranos.min()) / 4.)\n",
    "print \"Tenor approx s: %s\" % ((tenors.max() - tenors.min()) / 4.)"
   ]
  },
  {
   "cell_type": "markdown",
   "metadata": {},
   "source": [
    "Comparing the approximate values of $s$ to the actual values of $s$, they appear to be fair estimates. I think they are close enough to be useful for getting an idea of the variability of the data sets. The soprano estimate seems to be the most off by about 22%.  "
   ]
  },
  {
   "cell_type": "markdown",
   "metadata": {},
   "source": [
    "#### 7b. Draw boxplots side by side for these cases. Comment on the central tendency and the dispersion for the four types of singers."
   ]
  },
  {
   "cell_type": "code",
   "execution_count": 23,
   "metadata": {
    "collapsed": false
   },
   "outputs": [
    {
     "data": {
      "text/plain": [
       "<matplotlib.axes._subplots.AxesSubplot at 0x7fb2588fbad0>"
      ]
     },
     "execution_count": 23,
     "metadata": {},
     "output_type": "execute_result"
    },
    {
     "data": {
      "image/png": "[encoded data removed]",
      "text/plain": [
       "<matplotlib.figure.Figure at 0x7fb25892afd0>"
      ]
     },
     "metadata": {},
     "output_type": "display_data"
    }
   ],
   "source": [
    "singerData.plot(kind='box', vert=False, xlim=(55,80))"
   ]
  },
  {
   "cell_type": "markdown",
   "metadata": {},
   "source": [
    "With regard to central tendency, the means are very close to the medians. With the exception of the tenor data (which looks a little skewed right), the data looks very evenly distributed. "
   ]
  }
 ],
 "metadata": {
  "kernelspec": {
   "display_name": "Python 2",
   "language": "python",
   "name": "python2"
  },
  "language_info": {
   "codemirror_mode": {
    "name": "ipython",
    "version": 2
   },
   "file_extension": ".py",
   "mimetype": "text/x-python",
   "name": "python",
   "nbconvert_exporter": "python",
   "pygments_lexer": "ipython2",
   "version": "2.7.10"
  }
 },
 "nbformat": 4,
 "nbformat_minor": 0
}

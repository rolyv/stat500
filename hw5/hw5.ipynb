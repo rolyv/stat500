{
 "cells": [
  {
   "cell_type": "markdown",
   "metadata": {},
   "source": [
    "---"
   ]
  },
  {
   "cell_type": "markdown",
   "metadata": {},
   "source": [
    "**Question 1**"
   ]
  },
  {
   "cell_type": "code",
   "execution_count": 1,
   "metadata": {
    "collapsed": true
   },
   "outputs": [],
   "source": [
    "import scipy.stats as stats\n",
    "import numpy as np\n",
    "\n",
    "z = stats.norm(550, 100)"
   ]
  },
  {
   "cell_type": "code",
   "execution_count": 2,
   "metadata": {
    "collapsed": false
   },
   "outputs": [
    {
     "data": {
      "text/plain": [
       "0.30853753872598688"
      ]
     },
     "execution_count": 2,
     "metadata": {},
     "output_type": "execute_result"
    }
   ],
   "source": [
    "# 1a. Greater than 600\n",
    "1 - z.cdf(600)"
   ]
  },
  {
   "cell_type": "code",
   "execution_count": 3,
   "metadata": {
    "collapsed": false
   },
   "outputs": [
    {
     "data": {
      "text/plain": [
       "0.022750131948179209"
      ]
     },
     "execution_count": 3,
     "metadata": {},
     "output_type": "execute_result"
    }
   ],
   "source": [
    "# 1b. Greater than 750\n",
    "1 - z.cdf(750)"
   ]
  },
  {
   "cell_type": "code",
   "execution_count": 4,
   "metadata": {
    "collapsed": false
   },
   "outputs": [
    {
     "data": {
      "text/plain": [
       "0.066807201268858071"
      ]
     },
     "execution_count": 4,
     "metadata": {},
     "output_type": "execute_result"
    }
   ],
   "source": [
    "# 1c. Less than 400\n",
    "z.cdf(400)"
   ]
  },
  {
   "cell_type": "code",
   "execution_count": 5,
   "metadata": {
    "collapsed": false
   },
   "outputs": [
    {
     "data": {
      "text/plain": [
       "0.62465526000515503"
      ]
     },
     "execution_count": 5,
     "metadata": {},
     "output_type": "execute_result"
    }
   ],
   "source": [
    "# 1d. Between 400 and 600\n",
    "z.cdf(600) - z.cdf(400)"
   ]
  },
  {
   "cell_type": "code",
   "execution_count": 6,
   "metadata": {
    "collapsed": false
   },
   "outputs": [
    {
     "data": {
      "text/plain": [
       "0.88492491723438405"
      ]
     },
     "execution_count": 6,
     "metadata": {},
     "output_type": "execute_result"
    }
   ],
   "source": [
    "# 1e. Class of 16 students. Find P(440 < y_bar < 580)\n",
    "sample_sd = 100. / np.sqrt(16)\n",
    "z = stats.norm(550, sample_sd)\n",
    "z.cdf(580) - z.cdf(440)"
   ]
  },
  {
   "cell_type": "markdown",
   "metadata": {},
   "source": [
    "**Question 2**"
   ]
  },
  {
   "cell_type": "code",
   "execution_count": 7,
   "metadata": {
    "collapsed": false
   },
   "outputs": [
    {
     "data": {
      "text/plain": [
       "[586,\n",
       " 993,\n",
       " 585,\n",
       " 1332,\n",
       " 1076,\n",
       " 147,\n",
       " 620,\n",
       " 183,\n",
       " 1214,\n",
       " 208,\n",
       " 474,\n",
       " 52,\n",
       " 1381,\n",
       " 1557,\n",
       " 752,\n",
       " 1315,\n",
       " 1246,\n",
       " 1456,\n",
       " 1222,\n",
       " 1515,\n",
       " 595,\n",
       " 114,\n",
       " 429,\n",
       " 1708,\n",
       " 920]"
      ]
     },
     "execution_count": 7,
     "metadata": {},
     "output_type": "execute_result"
    }
   ],
   "source": [
    "import random\n",
    "random.sample(xrange(1, 1726), 25)"
   ]
  },
  {
   "cell_type": "markdown",
   "metadata": {},
   "source": [
    "**Question 3**"
   ]
  },
  {
   "cell_type": "markdown",
   "metadata": {},
   "source": [
    "For sample size n = 200 <br>\n",
    "$\\mu_{\\sum{y}} = n \\mu = 200 \\cdot 97 = 19400 \\\\\n",
    "\\sigma_{\\sum{y}} = \\sqrt{n}\\sigma = \\sqrt{200} \\cdot 30 \\approx 424.264 $"
   ]
  },
  {
   "cell_type": "code",
   "execution_count": 8,
   "metadata": {
    "collapsed": false
   },
   "outputs": [
    {
     "data": {
      "text/plain": [
       "0.078649569910657191"
      ]
     },
     "execution_count": 8,
     "metadata": {},
     "output_type": "execute_result"
    }
   ],
   "source": [
    "z = stats.norm(19400, 424.264)\n",
    "1 - z.cdf(20000)"
   ]
  },
  {
   "cell_type": "markdown",
   "metadata": {},
   "source": [
    "**Question 4**"
   ]
  },
  {
   "cell_type": "code",
   "execution_count": 9,
   "metadata": {
    "collapsed": false
   },
   "outputs": [
    {
     "data": {
      "text/plain": [
       "0.4012936743170763"
      ]
     },
     "execution_count": 9,
     "metadata": {},
     "output_type": "execute_result"
    }
   ],
   "source": [
    "# 4a. P(blood pressue <= 150)\n",
    "z = stats.norm(155, 20)\n",
    "z.cdf(150)"
   ]
  },
  {
   "cell_type": "code",
   "execution_count": 10,
   "metadata": {
    "collapsed": false
   },
   "outputs": [
    {
     "data": {
      "text/plain": [
       "0.27014568730370997"
      ]
     },
     "execution_count": 10,
     "metadata": {},
     "output_type": "execute_result"
    }
   ],
   "source": [
    "# 4b. 6 measurements taken. P(y_bar <= 150)\n",
    "sample_sd = 20. / np.sqrt(6)\n",
    "z = stats.norm(155, sample_sd)\n",
    "z.cdf(150)"
   ]
  },
  {
   "cell_type": "code",
   "execution_count": 11,
   "metadata": {
    "collapsed": false
   },
   "outputs": [
    {
     "data": {
      "text/plain": [
       "44.0"
      ]
     },
     "execution_count": 11,
     "metadata": {},
     "output_type": "execute_result"
    }
   ],
   "source": [
    "# 4c. How many measurements so that P(y_bar <= 150) <= 0.05\n",
    "z = stats.norm()\n",
    "target_zvalue = z.ppf(.05)\n",
    "\n",
    "np.ceil(((target_zvalue * 20)/(150 - 155)) ** 2)"
   ]
  },
  {
   "cell_type": "code",
   "execution_count": 12,
   "metadata": {
    "collapsed": false
   },
   "outputs": [
    {
     "data": {
      "text/plain": [
       "0.048627214219501641"
      ]
     },
     "execution_count": 12,
     "metadata": {},
     "output_type": "execute_result"
    }
   ],
   "source": [
    "# test out above answer\n",
    "sample_sd = 20. / np.sqrt(44)\n",
    "z = stats.norm(155, sample_sd)\n",
    "z.cdf(150)"
   ]
  },
  {
   "cell_type": "markdown",
   "metadata": {},
   "source": [
    "**Question 5**"
   ]
  },
  {
   "cell_type": "code",
   "execution_count": 13,
   "metadata": {
    "collapsed": false
   },
   "outputs": [
    {
     "data": {
      "text/plain": [
       "0.99991954079037326"
      ]
     },
     "execution_count": 13,
     "metadata": {},
     "output_type": "execute_result"
    }
   ],
   "source": [
    "z = stats.norm(2280, 10.6)\n",
    "# 5a. P(y > 2240)\n",
    "1 - z.cdf(2240)"
   ]
  },
  {
   "cell_type": "markdown",
   "metadata": {},
   "source": [
    "Since the population distribution is approximately normal, the sampling distribution for $\\bar{y}$ will be normal as well with mean and standard deviation: <br>\n",
    "$\\mu_{\\bar{y}} = \\mu = 2280$ <br>\n",
    "$\\sigma_{\\bar{y}} = \\frac{\\sigma}{\\sqrt{25}} = 2.12$"
   ]
  },
  {
   "cell_type": "markdown",
   "metadata": {},
   "source": [
    "**Question 6**"
   ]
  },
  {
   "cell_type": "markdown",
   "metadata": {},
   "source": [
    "6a. Normal population\n",
    "\n",
    "population mean = 16.0, population std dev = 5.0\n",
    "\n",
    "|Sample size|Mean of sample mean|Std dev of sample mean|Skew|\n",
    "|-----------|:-----------------:|:--------------------:|:--:|\n",
    "|N = 2      |16.0               |3.51                  |0.0 |\n",
    "|N = 5      |16.0               |2.24                  |0.02|\n",
    "|N = 25     |16.0               |1.01                  |0.01|"
   ]
  },
  {
   "cell_type": "markdown",
   "metadata": {},
   "source": [
    "6b. Skewed population\n",
    "\n",
    "population mean = 8.08, population std dev = 6.22\n",
    "\n",
    "|Sample size|Mean of sample mean|Std dev of sample mean|Skew|\n",
    "|-----------|:-----------------:|:--------------------:|:--:|\n",
    "|N = 2      |8.16               |4.42                  |0.61|\n",
    "|N = 5      |8.07               |2.77                  |0.38|\n",
    "|N = 25     |8.11               |1.25                  |0.16|"
   ]
  },
  {
   "cell_type": "markdown",
   "metadata": {},
   "source": [
    "6c. The central limit theorem states that if we were to repeatedly take random samples of size N, from a population with mean $\\mu$ and standard deviation $\\sigma$, and for each of those random samples, we computed their mean, $\\bar{y}$, then $\\bar{y}$ is a random variable with mean $\\mu_{\\bar{y}} = \\mu$ and standard deviation $\\sigma_{\\bar{y}} = \\frac{\\sigma}{\\sqrt{N}}$. The distribution for $\\bar{y}$ will be approximately normal for small N, and will be normal for larger values of N. \n",
    "\n",
    "The simulation results do indicate the central limit theorem seems correct. It showed that if the population being sampled is skewed, then the sampling distribution for smaller values of N, will also be skewed similar to the population. But as N increases, the sampling distribution approaches a symmetric, normal distribution. "
   ]
  }
 ],
 "metadata": {
  "kernelspec": {
   "display_name": "Python 2",
   "language": "python",
   "name": "python2"
  },
  "language_info": {
   "codemirror_mode": {
    "name": "ipython",
    "version": 2
   },
   "file_extension": ".py",
   "mimetype": "text/x-python",
   "name": "python",
   "nbconvert_exporter": "python",
   "pygments_lexer": "ipython2",
   "version": "2.7.10"
  }
 },
 "nbformat": 4,
 "nbformat_minor": 0
}

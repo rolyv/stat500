{
 "cells": [
  {
   "cell_type": "markdown",
   "metadata": {},
   "source": [
    "### Question 1."
   ]
  },
  {
   "cell_type": "code",
   "execution_count": 1,
   "metadata": {
    "collapsed": false
   },
   "outputs": [
    {
     "data": {
      "text/plain": [
       "(7.9749195160742703, 10.225080483925728)"
      ]
     },
     "execution_count": 1,
     "metadata": {},
     "output_type": "execute_result"
    }
   ],
   "source": [
    "# 1a) 95% confidence interval\n",
    "%run mystats\n",
    "reading_speed = [5, 7, 15, 10, 8, 7, 10, 11, 9, 13, 10, 8, 11, 8, 10, 8, 7, 6, 11, 8]\n",
    "t_interval(reading_speed, conf=.95)"
   ]
  },
  {
   "cell_type": "markdown",
   "metadata": {},
   "source": [
    "**1b) **\n",
    "Probability plot\n",
    "![probability_plot](images/probplot2.png)"
   ]
  },
  {
   "cell_type": "markdown",
   "metadata": {},
   "source": [
    "** 1c) ** The interval indicates that there is 95% chance that the true population mean lies within the range 7.975 and 10.225. And if we repeatedly sample 20 students and compute this interval, there is a 95% chance that the intervals would contain the mean $\\mu$. Stated another way, about 95% of those intervals would contain $\\mu$."
   ]
  },
  {
   "cell_type": "code",
   "execution_count": 3,
   "metadata": {
    "collapsed": false
   },
   "outputs": [
    {
     "data": {
      "text/plain": [
       "(7.8391247336019489, 10.36087526639805)"
      ]
     },
     "execution_count": 3,
     "metadata": {},
     "output_type": "execute_result"
    }
   ],
   "source": [
    "# 1d) 97% confidence interval\n",
    "t_interval(reading_speed, conf=.97)"
   ]
  },
  {
   "cell_type": "markdown",
   "metadata": {},
   "source": [
    "Changing from a 95% confidence interval to a 97% confidence interval merely gives us a wider interval (2.25 vs 2.522), thus also a less precise interval. We can say that there is a 97% chance that the population mean falls within the range 7.839 to 10.361. "
   ]
  },
  {
   "cell_type": "markdown",
   "metadata": {},
   "source": [
    "### Question 2."
   ]
  },
  {
   "cell_type": "code",
   "execution_count": 20,
   "metadata": {
    "collapsed": false
   },
   "outputs": [
    {
     "data": {
      "text/plain": [
       "(8.3862787163408754, 9.8137212836591239)"
      ]
     },
     "execution_count": 20,
     "metadata": {},
     "output_type": "execute_result"
    }
   ],
   "source": [
    "# Using formula to compute 95% confidence interval\n",
    "x_bar = 9.10\n",
    "s = 2.404\n",
    "n = 20\n",
    "alpha = .80\n",
    "p = (alpha + 1) / 2.\n",
    "# 7.975 10.225 20 .95\n",
    "# 8.170 10.02  20 .90\n",
    "t = stats.t(n - 1)\n",
    "(x_bar - t.ppf(p)*(s/np.sqrt(n)), x_bar + t.ppf(p)*(s/np.sqrt(n)))"
   ]
  },
  {
   "cell_type": "code",
   "execution_count": 14,
   "metadata": {
    "collapsed": false
   },
   "outputs": [
    {
     "data": {
      "text/plain": [
       "0.975"
      ]
     },
     "execution_count": 14,
     "metadata": {},
     "output_type": "execute_result"
    }
   ],
   "source": [
    "alpha = .95\n",
    "(alpha + 1) / 2."
   ]
  },
  {
   "cell_type": "markdown",
   "metadata": {},
   "source": [
    "### Question 3.\n",
    "\n",
    "   a) A point estimate for the mean time would be $\\bar{y} = 27.6$\n",
    "   \n",
    "   b) Standard deviation of point estimate is $s /\\sqrt{n} = 3.7 / \\sqrt{34} = 0.6345$"
   ]
  },
  {
   "cell_type": "code",
   "execution_count": 5,
   "metadata": {
    "collapsed": false
   },
   "outputs": [
    {
     "data": {
      "text/plain": [
       "(26.309008968635599, 28.890991031364404)"
      ]
     },
     "execution_count": 5,
     "metadata": {},
     "output_type": "execute_result"
    }
   ],
   "source": [
    "# 3c) 95% confidence interval\n",
    "y_bar = 27.6\n",
    "s = 3.7\n",
    "n = 34\n",
    "\n",
    "t = stats.t(n -1)\n",
    "(y_bar - t.ppf(.975)*(s/np.sqrt(n)), y_bar + t.ppf(.975)*(s/np.sqrt(n)))"
   ]
  },
  {
   "cell_type": "markdown",
   "metadata": {},
   "source": [
    "The office manager should interpret this as saying that there is a 95% chance that the true mean resolution time falls within the range 26.3 to 28.9 minutes. Or that the manager can be 95% confident that cases are being resolved between 26.3 and 28.9 minutes."
   ]
  },
  {
   "cell_type": "markdown",
   "metadata": {},
   "source": [
    "### Question 4.\n",
    "\n",
    "a) True\n",
    "b) True\n",
    "c) False\n",
    "d) False"
   ]
  },
  {
   "cell_type": "markdown",
   "metadata": {},
   "source": [
    "### Question 5."
   ]
  },
  {
   "cell_type": "code",
   "execution_count": 9,
   "metadata": {
    "collapsed": false
   },
   "outputs": [
    {
     "data": {
      "text/plain": [
       "(19.657179514587956, 27.842820485412044)"
      ]
     },
     "execution_count": 9,
     "metadata": {},
     "output_type": "execute_result"
    }
   ],
   "source": [
    "# 5a) 99% confidence interval\n",
    "reading_time = np.array([25, 18, 27, 29, 20, 19, 16, 24, 37, 21, 24, 19, 20, 28, 31, 22])\n",
    "\n",
    "y_bar = reading_time.mean()\n",
    "n = len(reading_time)\n",
    "s = np.sqrt(sum([(y - y_bar) ** 2 for y in reading_time]) / (n - 1))\n",
    "\n",
    "t = stats.t(n - 1)\n",
    "(y_bar - t.ppf(.995)*(s/np.sqrt(n)), y_bar + t.ppf(.995)*(s/np.sqrt(n)))"
   ]
  },
  {
   "cell_type": "markdown",
   "metadata": {},
   "source": [
    "**5b) ** The interval above is applicable for the population of reading speeds of third graders in the large school district."
   ]
  },
  {
   "cell_type": "markdown",
   "metadata": {},
   "source": [
    "**5c) ** Based on the interval from part (a) we can say that we are 95% confident that the average third grader reading speed is between 19.7 and 27.8 minutes."
   ]
  },
  {
   "cell_type": "markdown",
   "metadata": {},
   "source": [
    "### Question 6."
   ]
  },
  {
   "cell_type": "code",
   "execution_count": 7,
   "metadata": {
    "collapsed": false
   },
   "outputs": [
    {
     "data": {
      "text/plain": [
       "44.0"
      ]
     },
     "execution_count": 7,
     "metadata": {},
     "output_type": "execute_result"
    }
   ],
   "source": [
    "# number of renters needed in survey\n",
    "z = stats.norm().ppf(.96)\n",
    "E = 97\n",
    "sigma = (1500 - 45) / 4.\n",
    "\n",
    "np.ceil(((z ** 2) * (sigma ** 2)) / (E ** 2))"
   ]
  },
  {
   "cell_type": "markdown",
   "metadata": {},
   "source": [
    "### Question 7."
   ]
  },
  {
   "cell_type": "code",
   "execution_count": 8,
   "metadata": {
    "collapsed": false
   },
   "outputs": [
    {
     "data": {
      "text/plain": [
       "77.0"
      ]
     },
     "execution_count": 8,
     "metadata": {},
     "output_type": "execute_result"
    }
   ],
   "source": [
    "# number of renters needed in survey\n",
    "# for 98% confidence interval\n",
    "\n",
    "z = stats.norm().ppf(.99)\n",
    "np.ceil(((z ** 2) * (sigma ** 2)) / (E ** 2))"
   ]
  }
 ],
 "metadata": {
  "kernelspec": {
   "display_name": "Python 2",
   "language": "python",
   "name": "python2"
  },
  "language_info": {
   "codemirror_mode": {
    "name": "ipython",
    "version": 2
   },
   "file_extension": ".py",
   "mimetype": "text/x-python",
   "name": "python",
   "nbconvert_exporter": "python",
   "pygments_lexer": "ipython2",
   "version": "2.7.10"
  }
 },
 "nbformat": 4,
 "nbformat_minor": 0
}

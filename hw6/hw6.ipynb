{
 "cells": [
  {
   "cell_type": "markdown",
   "metadata": {},
   "source": [
    "---"
   ]
  },
  {
   "cell_type": "markdown",
   "metadata": {},
   "source": [
    "### Question 1.\n",
    "\n",
    "   a. The population of interest is the particular fuse.\n",
    "   b. To answer the question posed would involve testing a hypothesis."
   ]
  },
  {
   "cell_type": "markdown",
   "metadata": {},
   "source": [
    "### Question 2.\n",
    "\n",
    "$n = 120, \\hat{\\pi} = \\frac{83}{120}$"
   ]
  },
  {
   "cell_type": "code",
   "execution_count": 1,
   "metadata": {
    "collapsed": false
   },
   "outputs": [
    {
     "data": {
      "text/plain": [
       "(0.60904078053386146, 0.77429255279947184)"
      ]
     },
     "execution_count": 1,
     "metadata": {},
     "output_type": "execute_result"
    }
   ],
   "source": [
    "import scipy.stats as stats\n",
    "import numpy as np\n",
    "\n",
    "def conf_interval(conf=.95):\n",
    "    pi_hat = 83 / 120.\n",
    "    z = stats.norm.ppf(1 - ((1 - conf) / 2.))\n",
    "    sd = np.sqrt((pi_hat * (1 - pi_hat)) / 120.)\n",
    "    \n",
    "    return (pi_hat - z * sd, pi_hat + z * sd)\n",
    "\n",
    "# 95% confidence interval\n",
    "conf_interval(.95)"
   ]
  },
  {
   "cell_type": "markdown",
   "metadata": {},
   "source": [
    "The interval can be interpretted as saying that there is a 95% chance that the true population proportion of people who are aware of the product lies within the range 60.9% and 77.4%"
   ]
  },
  {
   "cell_type": "code",
   "execution_count": 2,
   "metadata": {
    "collapsed": false
   },
   "outputs": [
    {
     "data": {
      "text/plain": [
       "(True, True)"
      ]
     },
     "execution_count": 2,
     "metadata": {},
     "output_type": "execute_result"
    }
   ],
   "source": [
    "# reason it's ok to use z-interval is \n",
    "# there are more than 5 success and 5 failures\n",
    "n = 120\n",
    "pi_hat = 83 / 120.\n",
    "\n",
    "(n*pi_hat >= 5, n*(1-pi_hat) >= 5)"
   ]
  },
  {
   "cell_type": "code",
   "execution_count": 3,
   "metadata": {
    "collapsed": false
   },
   "outputs": [
    {
     "data": {
      "text/plain": [
       "(0.58307784543762797, 0.80025548789570533)"
      ]
     },
     "execution_count": 3,
     "metadata": {},
     "output_type": "execute_result"
    }
   ],
   "source": [
    "# 99% confidence interval\n",
    "conf_interval(.99)"
   ]
  },
  {
   "cell_type": "code",
   "execution_count": 4,
   "metadata": {
    "collapsed": false
   },
   "outputs": [
    {
     "data": {
      "text/plain": [
       "0.082625886132805193"
      ]
     },
     "execution_count": 4,
     "metadata": {},
     "output_type": "execute_result"
    }
   ],
   "source": [
    "# margin of error of 95% interval\n",
    "interval_95 = conf_interval(.95)\n",
    "(interval_95[1] - interval_95[0]) / 2."
   ]
  },
  {
   "cell_type": "code",
   "execution_count": 5,
   "metadata": {
    "collapsed": false
   },
   "outputs": [
    {
     "data": {
      "text/plain": [
       "0.10858882122903868"
      ]
     },
     "execution_count": 5,
     "metadata": {},
     "output_type": "execute_result"
    }
   ],
   "source": [
    "# margin of error of 99% interval\n",
    "interval_99 = conf_interval(.99)\n",
    "(interval_99[1] - interval_99[0]) / 2."
   ]
  },
  {
   "cell_type": "markdown",
   "metadata": {},
   "source": [
    "We can see that the 99% confidence interval has a larger margin of error than the 95% confidence interval, thus indicating poorer precision. "
   ]
  },
  {
   "cell_type": "markdown",
   "metadata": {},
   "source": [
    "### Question 3."
   ]
  },
  {
   "cell_type": "markdown",
   "metadata": {},
   "source": [
    "95% confidence interval - z-interval\n",
    "![95_z](images/95_z_interval.png)\n",
    "\n",
    "95% confidence interval - exact interval\n",
    "![95_exact](images/95_exact_interval.png)\n",
    "\n",
    "99% confidence interval - z-interval\n",
    "![99_z](images/99_z_interval.png)\n",
    "\n",
    "99% confidence interval - exact interval\n",
    "![99_exact](images/99_exact_interval.png)\n"
   ]
  },
  {
   "cell_type": "markdown",
   "metadata": {},
   "source": [
    "### Question 4.\n",
    "\n",
    "$z_{\\alpha / 2} = z_{0.035} \\approx 1.8119$ <br>\n",
    "$E = 0.04$"
   ]
  },
  {
   "cell_type": "code",
   "execution_count": 6,
   "metadata": {
    "collapsed": false
   },
   "outputs": [
    {
     "data": {
      "text/plain": [
       "512.97191980617743"
      ]
     },
     "execution_count": 6,
     "metadata": {},
     "output_type": "execute_result"
    }
   ],
   "source": [
    "# Find n, such that we have 93% confidence interval\n",
    "# with margin of error = 0.04\n",
    "\n",
    "def find_n(pi_hat):\n",
    "    z = -stats.norm.ppf(.035)\n",
    "    E = .04    \n",
    "    return ((z ** 2) * (pi_hat) * (1 - pi_hat)) / (E ** 2)\n",
    "\n",
    "find_n(pi_hat=.5)"
   ]
  },
  {
   "cell_type": "markdown",
   "metadata": {},
   "source": [
    "If we want to be sure, we should use the conservative method which uses a $\\hat{\\pi}$ value of 0.5. That tells us that we should sample 513 individuals."
   ]
  },
  {
   "cell_type": "markdown",
   "metadata": {},
   "source": [
    "### Question 5.\n",
    "\n",
    "If the set-up cost of sampling additional people (if needed) later on is relatively small, then we can use an educated guess for $\\hat{\\pi}$. In this case, we can use the proportion from problem 2, $\\hat{\\pi} = \\frac{83}{120}$."
   ]
  },
  {
   "cell_type": "code",
   "execution_count": 7,
   "metadata": {
    "collapsed": false
   },
   "outputs": [
    {
     "data": {
      "text/plain": [
       "437.59354603465857"
      ]
     },
     "execution_count": 7,
     "metadata": {},
     "output_type": "execute_result"
    }
   ],
   "source": [
    "# Find n, using educated guess for pi_hat\n",
    "\n",
    "find_n(pi_hat=83/120.)"
   ]
  },
  {
   "cell_type": "markdown",
   "metadata": {},
   "source": [
    "So using the educated guess, we can start with a sample of 438 individuals and then sample additional people if necessary."
   ]
  },
  {
   "cell_type": "markdown",
   "metadata": {},
   "source": [
    "### Question 6."
   ]
  },
  {
   "cell_type": "code",
   "execution_count": 8,
   "metadata": {
    "collapsed": false
   },
   "outputs": [
    {
     "data": {
      "text/plain": [
       "(0.168750495987324, 0.74863237259182269)"
      ]
     },
     "execution_count": 8,
     "metadata": {},
     "output_type": "execute_result"
    }
   ],
   "source": [
    "%run mystats\n",
    "binom_interval(4, 9, conf=.9)"
   ]
  }
 ],
 "metadata": {
  "kernelspec": {
   "display_name": "Python 2",
   "language": "python",
   "name": "python2"
  },
  "language_info": {
   "codemirror_mode": {
    "name": "ipython",
    "version": 2
   },
   "file_extension": ".py",
   "mimetype": "text/x-python",
   "name": "python",
   "nbconvert_exporter": "python",
   "pygments_lexer": "ipython2",
   "version": "2.7.10"
  }
 },
 "nbformat": 4,
 "nbformat_minor": 0
}

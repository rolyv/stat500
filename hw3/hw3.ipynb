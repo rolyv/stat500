{
 "cells": [
  {
   "cell_type": "markdown",
   "metadata": {},
   "source": [
    "**1.  A coin is to be flipped three times.  List the possible outcomes in the form: (result on toss 1, result in toss 2, result in toss 3).  Assume that each one of the outcomes has probability 1/8 of occurring.  Find the probability of **\n",
    "      1.  A : Observing exactly 2 tail\n",
    "      2.  B : Observing 2 or more tails\n",
    "      3.  C:  Observing no tails \n",
    "\n",
    "[ hint: list out the events in A,B,C respectively, it is then easy to compute their probabilities.] "
   ]
  },
  {
   "cell_type": "markdown",
   "metadata": {},
   "source": [
    "[HHH, HHT, HTH, HTT, THH, THT, TTH, TTT]"
   ]
  },
  {
   "cell_type": "code",
   "execution_count": 22,
   "metadata": {
    "collapsed": false
   },
   "outputs": [
    {
     "data": {
      "text/plain": [
       "0.375"
      ]
     },
     "execution_count": 22,
     "metadata": {},
     "output_type": "execute_result"
    }
   ],
   "source": [
    "# P(A) = P(exactly 2 tails) = \n",
    "(3/8.)"
   ]
  },
  {
   "cell_type": "code",
   "execution_count": 23,
   "metadata": {
    "collapsed": false
   },
   "outputs": [
    {
     "data": {
      "text/plain": [
       "0.5"
      ]
     },
     "execution_count": 23,
     "metadata": {},
     "output_type": "execute_result"
    }
   ],
   "source": [
    "# P(B) = P(2 or more tails) = \n",
    "(4/8.)"
   ]
  },
  {
   "cell_type": "code",
   "execution_count": 24,
   "metadata": {
    "collapsed": false
   },
   "outputs": [
    {
     "data": {
      "text/plain": [
       "0.125"
      ]
     },
     "execution_count": 24,
     "metadata": {},
     "output_type": "execute_result"
    }
   ],
   "source": [
    "# P(C) = P(no tails) = \n",
    "(1/8.)"
   ]
  },
  {
   "cell_type": "markdown",
   "metadata": {},
   "source": [
    "**2.  For the events given in the above problem, compute:**\n",
    "      1. P (A | B)\n",
    "      2. P (A | C)\n",
    "      3. P (B | C)\n",
    "      4. Are A, B independent?  Are A, B mutually exclusive?\n",
    "      5. Are B, C independent?  Are B,C mutually exclusive?  "
   ]
  },
  {
   "cell_type": "code",
   "execution_count": 25,
   "metadata": {
    "collapsed": false
   },
   "outputs": [
    {
     "data": {
      "text/plain": [
       "0.75"
      ]
     },
     "execution_count": 25,
     "metadata": {},
     "output_type": "execute_result"
    }
   ],
   "source": [
    "# P(A | B) = P(A intersect B) / P(B) = .375 / .5 = \n",
    "(.375/.5)"
   ]
  },
  {
   "cell_type": "code",
   "execution_count": 28,
   "metadata": {
    "collapsed": false
   },
   "outputs": [
    {
     "data": {
      "text/plain": [
       "0"
      ]
     },
     "execution_count": 28,
     "metadata": {},
     "output_type": "execute_result"
    }
   ],
   "source": [
    "# P(A | C) = P(A intersect C) / P(C) = 0 / .125 = 0\n",
    "0"
   ]
  },
  {
   "cell_type": "code",
   "execution_count": 27,
   "metadata": {
    "collapsed": false
   },
   "outputs": [
    {
     "data": {
      "text/plain": [
       "0"
      ]
     },
     "execution_count": 27,
     "metadata": {},
     "output_type": "execute_result"
    }
   ],
   "source": [
    "# P(B | C) = P(B intersect C) / P(C) = 0 / .125 = 0\n",
    "0"
   ]
  },
  {
   "cell_type": "markdown",
   "metadata": {},
   "source": [
    "No, A and B are not independent. $P(A|B) = .75 \\neq .375 = P(A)$\n",
    "<br>No, A and B are not mutually exclusive. Their intersection is non-empty: exactly 2 tails is contained in both. "
   ]
  },
  {
   "cell_type": "markdown",
   "metadata": {},
   "source": [
    "No, B and C are not independent. $P(B|C) = 0 \\neq .5 = P(B)$\n",
    "<br>Yes, B and C are mutually exclusive. Their intersection is empty."
   ]
  },
  {
   "cell_type": "markdown",
   "metadata": {},
   "source": [
    "**3.  Consider the following outcomes for an experiment:**\n",
    "\n",
    "|Outcome|1|2|3|4|5|\n",
    "|-------|-|-|-|-|-|\n",
    "|Probability|.18|.22|.20|.15|.25|\n",
    "\n",
    "   Let A consists of outcomes 2, 3, 4 and B consist of outcomes 4 and 5\n",
    "   1.  Find P(A) and P(B)\n",
    "   2.  Find P(both A and B occur)\n",
    "   3.  Find P(either A or B occur)\n",
    "   4.  Are A, B independent?\n",
    "   5.  Are A, B mutually exclusive?"
   ]
  },
  {
   "cell_type": "code",
   "execution_count": 29,
   "metadata": {
    "collapsed": false
   },
   "outputs": [
    {
     "name": "stdout",
     "output_type": "stream",
     "text": [
      "P(A) = 0.57, P(B) = 0.4\n"
     ]
    }
   ],
   "source": [
    "print \"P(A) = %s, P(B) = %s\" % ((.22+.2+.15), (.15+.25))"
   ]
  },
  {
   "cell_type": "code",
   "execution_count": 30,
   "metadata": {
    "collapsed": false
   },
   "outputs": [
    {
     "name": "stdout",
     "output_type": "stream",
     "text": [
      "P(A AND B) = P(outcome = 4) = .15\n"
     ]
    }
   ],
   "source": [
    "print \"P(A AND B) = P(outcome = 4) = .15\""
   ]
  },
  {
   "cell_type": "code",
   "execution_count": 31,
   "metadata": {
    "collapsed": false
   },
   "outputs": [
    {
     "data": {
      "text/plain": [
       "0.82"
      ]
     },
     "execution_count": 31,
     "metadata": {},
     "output_type": "execute_result"
    }
   ],
   "source": [
    "# P(A OR B) = .57 + .4 - .15 = \n",
    "(.57 + .4 - .15)"
   ]
  },
  {
   "cell_type": "markdown",
   "metadata": {},
   "source": [
    "No, A and B are not independent. Their intersection is not equal to their product"
   ]
  },
  {
   "cell_type": "markdown",
   "metadata": {},
   "source": [
    "No, A and B are not mutually exclusive. Their intersection is not equal to 0."
   ]
  },
  {
   "cell_type": "markdown",
   "metadata": {},
   "source": [
    "**4. A utility company in a large metropolitan area finds that 90% of its customers pay a given monthly bill in full.**\n",
    "  1. Suppose two customers are chosen at random from the list of all customers.  What is the probability that both customers will pay their monthly bill in full.\n",
    "  2. What is the probability that at least one of them will pay in full."
   ]
  },
  {
   "cell_type": "code",
   "execution_count": 20,
   "metadata": {
    "collapsed": false
   },
   "outputs": [
    {
     "data": {
      "text/plain": [
       "0.81"
      ]
     },
     "execution_count": 20,
     "metadata": {},
     "output_type": "execute_result"
    }
   ],
   "source": [
    "#  P(2 customers pay bill in full) = .9 * .9 = \n",
    "(.9*.9)"
   ]
  },
  {
   "cell_type": "code",
   "execution_count": 21,
   "metadata": {
    "collapsed": false
   },
   "outputs": [
    {
     "data": {
      "text/plain": [
       "0.99"
      ]
     },
     "execution_count": 21,
     "metadata": {},
     "output_type": "execute_result"
    }
   ],
   "source": [
    "#  P(at least 1 customer pays in full) \n",
    "#  = 1 - P(neither pays in full) = 1 - (.1 * .1) = \n",
    "(1 - .1*.1)"
   ]
  },
  {
   "cell_type": "markdown",
   "metadata": {},
   "source": [
    "**5. Refer to the above problem.  A more detailed examination of the company records indicates that 97% of the customers who pay one monthly bill in full will also pay the next monthly bill in full; only 15% of those who pay less than the full amount one month will pay in full the next month. **\n",
    "  1. Find the probability that a customer selected at random will pay two consecutive months in full.\n",
    "  2. Find the probability that a customer selected at random will pay neither of two consecutive months in full.\n",
    "  3. Find the probability that a customer chosen at random chosen at random will pay exactly one month in full. "
   ]
  },
  {
   "cell_type": "code",
   "execution_count": 33,
   "metadata": {
    "collapsed": false
   },
   "outputs": [
    {
     "data": {
      "text/plain": [
       "0.873"
      ]
     },
     "execution_count": 33,
     "metadata": {},
     "output_type": "execute_result"
    }
   ],
   "source": [
    "# P(customer pays 2 consecutive months) \n",
    "# = P(pays month 2 | paid month 1) * P(paid month 1) = \n",
    ".97 * .9"
   ]
  },
  {
   "cell_type": "code",
   "execution_count": 34,
   "metadata": {
    "collapsed": false
   },
   "outputs": [
    {
     "data": {
      "text/plain": [
       "0.085"
      ]
     },
     "execution_count": 34,
     "metadata": {},
     "output_type": "execute_result"
    }
   ],
   "source": [
    "# P(customers pays neither of 2 months in full)\n",
    "#  = P(doesn't pay month 2 | didn't pay month 1) * P(didn't pay month 1) = \n",
    ".85 * .1"
   ]
  },
  {
   "cell_type": "code",
   "execution_count": 35,
   "metadata": {
    "collapsed": false
   },
   "outputs": [
    {
     "data": {
      "text/plain": [
       "0.041999999999999996"
      ]
     },
     "execution_count": 35,
     "metadata": {},
     "output_type": "execute_result"
    }
   ],
   "source": [
    "# P(customer pays exactly 1 month in full)\n",
    "#  = P(pays month 2 | didn't pay month 1) * P(didn't pay month 1)\n",
    "#     + P(doesn't pay month 2 | paid month 1) * P(paid month 1) = \n",
    "(.15 * .1) + (.03 * .9)"
   ]
  },
  {
   "cell_type": "markdown",
   "metadata": {},
   "source": [
    "**6. Number of daily requests for emergency assistance at a fire station in a medium-sized city has the probability distribution shown here:**\n",
    "\n",
    "|y|0|1|2|3|4|5|6|7|8|9|10|\n",
    "|-|-|-|-|-|-|-|-|-|-|-|--|\n",
    "|P(y)|0.06|.14|.16|.15|.11|.10|.09|.08|.05|.04|.02|\n",
    "\n",
    "  1. What is the probability that five or more requests will be made in a particular day?\n",
    "  2. What is the probability that the requests for assistance will be at least four but no more than 8?\n",
    "  3. Suppose the fire station must call for additional equipment from a neighboring city whenever the number of requests for assistance exceeds eight in a given day.  The neighboring city then charges for its equipment.  What is the probability the city will call for additional equipment on a given day?  "
   ]
  },
  {
   "cell_type": "code",
   "execution_count": 38,
   "metadata": {
    "collapsed": false
   },
   "outputs": [
    {
     "data": {
      "text/plain": [
       "0.38"
      ]
     },
     "execution_count": 38,
     "metadata": {},
     "output_type": "execute_result"
    }
   ],
   "source": [
    "# P(y >= 5)\n",
    ".1 + .09 + .08 + .05 + .04 + .02\n",
    "\n",
    "# could also do 1 - P(y < 5)"
   ]
  },
  {
   "cell_type": "code",
   "execution_count": 39,
   "metadata": {
    "collapsed": false
   },
   "outputs": [
    {
     "data": {
      "text/plain": [
       "0.43000000000000005"
      ]
     },
     "execution_count": 39,
     "metadata": {},
     "output_type": "execute_result"
    }
   ],
   "source": [
    "# P(4 <= y <= 8)\n",
    ".11 + .10 + .09 + .08 + .05"
   ]
  },
  {
   "cell_type": "code",
   "execution_count": 40,
   "metadata": {
    "collapsed": false
   },
   "outputs": [
    {
     "data": {
      "text/plain": [
       "0.06"
      ]
     },
     "execution_count": 40,
     "metadata": {},
     "output_type": "execute_result"
    }
   ],
   "source": [
    "# P(y > 8)\n",
    ".04 + .02"
   ]
  },
  {
   "cell_type": "markdown",
   "metadata": {},
   "source": [
    "**7. If the table in practice problem 2 is given as:\n",
    " \n",
    "| |Test|Result| |\n",
    "|-|----|------|-|\n",
    "|True Status|(+)|(-)|Total|\n",
    "|Pregnant|74|5|79|\n",
    "|Not Pregnant |19|902|921|\n",
    "|Total|93|907|1000|\n",
    "\n",
    "Give the probabilities asked in a, b, c, d of the practice problem 2 . "
   ]
  },
  {
   "cell_type": "code",
   "execution_count": 42,
   "metadata": {
    "collapsed": false
   },
   "outputs": [
    {
     "data": {
      "text/plain": [
       "0.079"
      ]
     },
     "execution_count": 42,
     "metadata": {},
     "output_type": "execute_result"
    }
   ],
   "source": [
    "# a. percentage women pregnant\n",
    "79 / 1000."
   ]
  },
  {
   "cell_type": "code",
   "execution_count": 43,
   "metadata": {
    "collapsed": false
   },
   "outputs": [
    {
     "data": {
      "text/plain": [
       "0.093"
      ]
     },
     "execution_count": 43,
     "metadata": {},
     "output_type": "execute_result"
    }
   ],
   "source": [
    "# b. percentage women who tested positive\n",
    "93 / 1000."
   ]
  },
  {
   "cell_type": "code",
   "execution_count": 45,
   "metadata": {
    "collapsed": false
   },
   "outputs": [
    {
     "data": {
      "text/plain": [
       "0.9367088607594937"
      ]
     },
     "execution_count": 45,
     "metadata": {},
     "output_type": "execute_result"
    }
   ],
   "source": [
    "# c. given woman is pregnant, what is the probability of positive result\n",
    "74 / 79."
   ]
  },
  {
   "cell_type": "code",
   "execution_count": 46,
   "metadata": {
    "collapsed": false
   },
   "outputs": [
    {
     "data": {
      "text/plain": [
       "0.7956989247311828"
      ]
     },
     "execution_count": 46,
     "metadata": {},
     "output_type": "execute_result"
    }
   ],
   "source": [
    "# d. given test is positive, what is probability she's pregnant\n",
    "74 / 93."
   ]
  },
  {
   "cell_type": "code",
   "execution_count": null,
   "metadata": {
    "collapsed": true
   },
   "outputs": [],
   "source": []
  }
 ],
 "metadata": {
  "kernelspec": {
   "display_name": "Python 2",
   "language": "python",
   "name": "python2"
  },
  "language_info": {
   "codemirror_mode": {
    "name": "ipython",
    "version": 2
   },
   "file_extension": ".py",
   "mimetype": "text/x-python",
   "name": "python",
   "nbconvert_exporter": "python",
   "pygments_lexer": "ipython2",
   "version": "2.7.10"
  }
 },
 "nbformat": 4,
 "nbformat_minor": 0
}

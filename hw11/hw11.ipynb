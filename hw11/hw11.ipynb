{
 "cells": [
  {
   "cell_type": "markdown",
   "metadata": {},
   "source": [
    "### Question 1\n",
    "\n",
    "a) [insert images]\n",
    "b) Yes, they both appear to be normally distributed.\n",
    "c) [insert test of equal variance image here]\n",
    "\n",
    "Based on the p-value results, we can conclude that there is sufficient evidence to reject the null hypothesis at the .1 significance level. "
   ]
  },
  {
   "cell_type": "markdown",
   "metadata": {},
   "source": [
    "### Question 2\n",
    "\n",
    "Null hypothesis is that union membership and union support are independent. \n",
    "\n",
    "Research hypothesis is that union membership and union support are dependent.\n",
    "\n",
    "[Insert image of chi square test]\n",
    "\n",
    "Since p-value = 0.000 < 0.01, we reject the null hypothesis that the variables are independent. We conclude that they are dependent."
   ]
  },
  {
   "cell_type": "markdown",
   "metadata": {},
   "source": [
    "### Question 3\n",
    "\n",
    "Estimated expected values:\n",
    "\n",
    "|         | Favor | Indifferent | Opposed | Total |\n",
    "|---------|-------|-------------|---------|-------|\n",
    "| Members | $200 \\cdot 210 / 600 = 70$ | $200\\cdot240 / 600 =  80$ | $200\\cdot150 / 600 = 50$ | 200 |\n",
    "| Non-members | $400\\cdot210 /600=140$ | $400\\cdot240 / 600 = 160$ | $400\\cdot150 / 600 = 100$ | 400 |\n",
    "| Total   | 210 | 240 | 150 | 600 |\n",
    "\n",
    "The degrees of freedom = (rows - 1)(cols - 1) = (2-1)(3-1) = 2"
   ]
  },
  {
   "cell_type": "markdown",
   "metadata": {},
   "source": [
    "### Question 4\n",
    "\n",
    "Estimated expected values:\n",
    "\n",
    "| Social Status |    A few       | Some | Lots | Total |\n",
    "|---------------|----------------|------|------|-------|\n",
    "| Middle class  | $36\\cdot15 / 73 = 7.4$ | $36\\cdot24 / 73 = 11.84$ | $36\\cdot34 / 73 = 16.77$ | 36 |\n",
    "| Working       | $37\\cdot15 / 73 = 7.6$ | $37\\cdot24 / 73 = 12.16$ | $37\\cdot34 / 73 = 17.23$ | 37 |\n",
    "| Total         | 15      | 24     | 34     | 73      |\n",
    "\n",
    "\n",
    "[Insert image here]\n",
    "\n",
    "First of all, we do not see any expected values less than 5, so we meet the conditions for a chi-square test.\n",
    "The chi-square statistic is .337 and p-value is .845. That is a very high p-value so we do not reject the null hypothesis and conclude that the variables are independent."
   ]
  }
 ],
 "metadata": {
  "kernelspec": {
   "display_name": "Python 2",
   "language": "python",
   "name": "python2"
  },
  "language_info": {
   "codemirror_mode": {
    "name": "ipython",
    "version": 2
   },
   "file_extension": ".py",
   "mimetype": "text/x-python",
   "name": "python",
   "nbconvert_exporter": "python",
   "pygments_lexer": "ipython2",
   "version": "2.7.10"
  }
 },
 "nbformat": 4,
 "nbformat_minor": 0
}

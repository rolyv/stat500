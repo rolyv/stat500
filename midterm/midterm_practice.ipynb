{
 "cells": [
  {
   "cell_type": "markdown",
   "metadata": {},
   "source": [
    "**1. In a box plot, if one whisker is longer than the other, the data is skewed in the direction of the long whisker**"
   ]
  },
  {
   "cell_type": "markdown",
   "metadata": {},
   "source": [
    "True"
   ]
  },
  {
   "cell_type": "markdown",
   "metadata": {},
   "source": [
    "**2. Probability of intersection of two events is the product of probabilities of the individual events**"
   ]
  },
  {
   "cell_type": "markdown",
   "metadata": {},
   "source": [
    "False"
   ]
  },
  {
   "cell_type": "markdown",
   "metadata": {},
   "source": [
    "**3. Which one or more of the following (a)-(g) is NOT a characteristic of a normal distribution? If all are characteristics, select (h). **"
   ]
  },
  {
   "cell_type": "markdown",
   "metadata": {},
   "source": [
    "(h) all of the above are characteristics of normal curves"
   ]
  },
  {
   "cell_type": "markdown",
   "metadata": {},
   "source": [
    "**4. <br>\n",
    "Data set 1: 7.2, 5.1, 8.4, 6.3, 9.1 <br>\n",
    "Data set 2: 7.2, 5.1, 8.4, 6.3, 9.1, 70.8**"
   ]
  },
  {
   "cell_type": "code",
   "execution_count": 3,
   "metadata": {
    "collapsed": false
   },
   "outputs": [
    {
     "name": "stdout",
     "output_type": "stream",
     "text": [
      "Set 1: Mean: 7.220, Median: 7.200\n",
      "Set 2: Mean: 17.817, Median: 7.800\n"
     ]
    }
   ],
   "source": [
    "# 4.1) Find the mean and median for each data set\n",
    "import numpy as np\n",
    "import pandas as pd\n",
    "\n",
    "set1 = pd.Series([7.2, 5.1, 8.4, 6.3, 9.1])\n",
    "set2 = pd.Series([7.2, 5.1, 8.4, 6.3, 9.1, 70.8])\n",
    "\n",
    "print \"Set 1: Mean: {0:.3f}, Median: {1:.3f}\".format(set1.mean(), set1.median())\n",
    "print \"Set 2: Mean: {0:.3f}, Median: {1:.3f}\".format(set2.mean(), set2.median())"
   ]
  },
  {
   "cell_type": "markdown",
   "metadata": {},
   "source": [
    "4.2) Why does the median change very little, while the mean changes considerably?"
   ]
  },
  {
   "cell_type": "markdown",
   "metadata": {},
   "source": [
    "The mean is heavily swayed in set 2 by the value 70.8 although it appears to be an outlier. The median is a resistant measure that is not swayed as easily by outliers.  "
   ]
  },
  {
   "cell_type": "code",
   "execution_count": 5,
   "metadata": {
    "collapsed": false
   },
   "outputs": [
    {
     "name": "stdout",
     "output_type": "stream",
     "text": [
      "Set 1 range: 4.0\n",
      "Set 2 range: 65.7\n"
     ]
    }
   ],
   "source": [
    "# 4.3) Find the sample range\n",
    "print \"Set 1 range: %s\" % (set1.max() - set1.min())\n",
    "print \"Set 2 range: %s\" % (set2.max() - set2.min())"
   ]
  },
  {
   "cell_type": "code",
   "execution_count": 6,
   "metadata": {
    "collapsed": false
   },
   "outputs": [
    {
     "name": "stdout",
     "output_type": "stream",
     "text": [
      "Set 1 approx std dev: 1.0\n"
     ]
    }
   ],
   "source": [
    "# 4.4) Find the approximate value (NOT EXACT) of the sample std dev\n",
    "# for data set 1\n",
    "print \"Set 1 approx std dev: %s\" % (4.0 / 4)"
   ]
  },
  {
   "cell_type": "code",
   "execution_count": 28,
   "metadata": {
    "collapsed": false
   },
   "outputs": [
    {
     "name": "stdout",
     "output_type": "stream",
     "text": [
      "Percentage: 40.00%\n"
     ]
    }
   ],
   "source": [
    "# 4.5) Using part 4.4, find percentage of observations within one std dev\n",
    "# of the mean for set 1. What do you conclude from it?\n",
    "\n",
    "values_1s = set1[(set1 <= set1.mean() + 1) & (set1 >= set1.mean() - 1)]\n",
    "print \"Percentage: {0:.2f}%\".format(100. * len(values_1s) / len(set1))"
   ]
  },
  {
   "cell_type": "markdown",
   "metadata": {},
   "source": [
    "Either the data set is too small to apply the empirical rule or range/4 is not a good estimate for std dev if the data set is too small"
   ]
  },
  {
   "cell_type": "markdown",
   "metadata": {},
   "source": [
    "**5.** The variable GPA is quantitative"
   ]
  },
  {
   "cell_type": "markdown",
   "metadata": {},
   "source": [
    "**6.** Two boxplots have about the same value of the median"
   ]
  },
  {
   "cell_type": "markdown",
   "metadata": {},
   "source": [
    "**7.** Both have about the same value of the maximum"
   ]
  },
  {
   "cell_type": "markdown",
   "metadata": {},
   "source": [
    "**8.** 50% of all GPAs lie between 3 and 4"
   ]
  },
  {
   "cell_type": "markdown",
   "metadata": {},
   "source": [
    "**9.** \n",
    "1. .35\n",
    "2. .875\n",
    "3. .20\n",
    "\n",
    "They are not independent events because $P(M|W) \\neq P(M)$"
   ]
  },
  {
   "cell_type": "markdown",
   "metadata": {},
   "source": [
    "**10.** A new cough medicine has probability 0.85 of curing a person’s cough. 20 are given the new cough medicine. What is the probability that..."
   ]
  },
  {
   "cell_type": "code",
   "execution_count": 36,
   "metadata": {
    "collapsed": false
   },
   "outputs": [
    {
     "data": {
      "text/plain": [
       "0.03875953108451434"
      ]
     },
     "execution_count": 36,
     "metadata": {},
     "output_type": "execute_result"
    }
   ],
   "source": [
    "import numpy as np\n",
    "import scipy.stats as stats\n",
    "\n",
    "# probability that all 20 are cured of their coughs?\n",
    "b = stats.binom(20,.85)\n",
    "b.pmf(20)"
   ]
  },
  {
   "cell_type": "code",
   "execution_count": 37,
   "metadata": {
    "collapsed": false
   },
   "outputs": [
    {
     "data": {
      "text/plain": [
       "3.325256730079675e-17"
      ]
     },
     "execution_count": 37,
     "metadata": {},
     "output_type": "execute_result"
    }
   ],
   "source": [
    "# probability that none of the 20 is cured of their coughs\n",
    "b.pmf(0)"
   ]
  },
  {
   "cell_type": "markdown",
   "metadata": {},
   "source": [
    "**11.** In a consumer satisfaction study, a random sample of 8 customers of a restaurant is selected and they are asked whether they are satisfied with their dining experience.  The restaurant has claimed that more than 70% of the customers are satisfied. "
   ]
  },
  {
   "cell_type": "code",
   "execution_count": 39,
   "metadata": {
    "collapsed": false
   },
   "outputs": [
    {
     "data": {
      "text/plain": [
       "5.6"
      ]
     },
     "execution_count": 39,
     "metadata": {},
     "output_type": "execute_result"
    }
   ],
   "source": [
    "# 1) what is the mean value\n",
    "8 * .7"
   ]
  },
  {
   "cell_type": "code",
   "execution_count": 43,
   "metadata": {
    "collapsed": false
   },
   "outputs": [
    {
     "data": {
      "text/plain": [
       "0.011292210000000007"
      ]
     },
     "execution_count": 43,
     "metadata": {},
     "output_type": "execute_result"
    }
   ],
   "source": [
    "# 2) if only 2 people are satisfied, is there reason to suspect\n",
    "# the statement that more than 70% of the customers are satisfied\n",
    "b = stats.binom(8,.7)\n",
    "b.cdf(2)"
   ]
  },
  {
   "cell_type": "markdown",
   "metadata": {},
   "source": [
    "Since it's only a 1% chance of having 2 satisfied customers in a sample of 8 people, there is strong reason to suspect the 70% satisfaction rate."
   ]
  },
  {
   "cell_type": "markdown",
   "metadata": {},
   "source": [
    "**12.** The weight of each chocolate chip cookie follows a normal distribution with mean 3 oz and standard deviation 1 oz.    Find the probability that the mean of  9 cookies is more than 3.1 oz."
   ]
  },
  {
   "cell_type": "code",
   "execution_count": 49,
   "metadata": {
    "collapsed": false
   },
   "outputs": [
    {
     "data": {
      "text/plain": [
       "0.38208857781104721"
      ]
     },
     "execution_count": 49,
     "metadata": {},
     "output_type": "execute_result"
    }
   ],
   "source": [
    "sample_sd = 1. / np.sqrt(9)\n",
    "\n",
    "z = stats.norm(3, sample_sd)\n",
    "1 - z.cdf(3.1)"
   ]
  },
  {
   "cell_type": "code",
   "execution_count": null,
   "metadata": {
    "collapsed": true
   },
   "outputs": [],
   "source": []
  }
 ],
 "metadata": {
  "kernelspec": {
   "display_name": "Python 2",
   "language": "python",
   "name": "python2"
  },
  "language_info": {
   "codemirror_mode": {
    "name": "ipython",
    "version": 2
   },
   "file_extension": ".py",
   "mimetype": "text/x-python",
   "name": "python",
   "nbconvert_exporter": "python",
   "pygments_lexer": "ipython2",
   "version": "2.7.10"
  }
 },
 "nbformat": 4,
 "nbformat_minor": 0
}

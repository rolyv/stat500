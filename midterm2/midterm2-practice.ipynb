{
 "cells": [
  {
   "cell_type": "markdown",
   "metadata": {},
   "source": [
    "#### Question 1\n",
    "\n",
    "Estimating percentage of blood donor members that have blood type A is an estimation problem. We are trying to estimate the proportion of blood donors members who have blood type A. So the population of interest is blood donor members. "
   ]
  },
  {
   "cell_type": "markdown",
   "metadata": {},
   "source": [
    "#### Question 2"
   ]
  },
  {
   "cell_type": "code",
   "execution_count": 1,
   "metadata": {
    "collapsed": false
   },
   "outputs": [
    {
     "data": {
      "text/plain": [
       "(23.326258867214491, 23.873741132785511)"
      ]
     },
     "execution_count": 1,
     "metadata": {},
     "output_type": "execute_result"
    }
   ],
   "source": [
    "# 90% confidence interval\n",
    "import scipy.stats as stats\n",
    "import numpy as np\n",
    "\n",
    "n = 25\n",
    "x_bar = 23.6\n",
    "s = .8\n",
    "\n",
    "t = stats.t(n - 1)\n",
    "\n",
    "(x_bar-t.ppf(.95)*(s/np.sqrt(n)), x_bar+t.ppf(.95)*(s/np.sqrt(n)))"
   ]
  },
  {
   "cell_type": "markdown",
   "metadata": {},
   "source": [
    "#### Question 3"
   ]
  },
  {
   "cell_type": "code",
   "execution_count": 2,
   "metadata": {
    "collapsed": false
   },
   "outputs": [
    {
     "data": {
      "text/plain": [
       "32.0"
      ]
     },
     "execution_count": 2,
     "metadata": {},
     "output_type": "execute_result"
    }
   ],
   "source": [
    "# Number of teenagers needed 94% conf\n",
    "E = .5\n",
    "sigma = 6 / 4.\n",
    "z = stats.norm().ppf(.97)\n",
    "\n",
    "np.ceil(((z ** 2) * (sigma ** 2)) / (E ** 2))"
   ]
  },
  {
   "cell_type": "markdown",
   "metadata": {},
   "source": [
    "#### Question 4"
   ]
  },
  {
   "cell_type": "markdown",
   "metadata": {},
   "source": [
    "False"
   ]
  },
  {
   "cell_type": "markdown",
   "metadata": {},
   "source": [
    "#### Question 5"
   ]
  },
  {
   "cell_type": "code",
   "execution_count": 4,
   "metadata": {
    "collapsed": false
   },
   "outputs": [
    {
     "data": {
      "text/plain": [
       "68.0"
      ]
     },
     "execution_count": 4,
     "metadata": {},
     "output_type": "execute_result"
    }
   ],
   "source": [
    "# Find n, number of samples needed, to estimate proportion\n",
    "#  with margin of error .1 and 90% confidence\n",
    "E = .1\n",
    "z = stats.norm().ppf(.95)\n",
    "pi_hat = .5\n",
    "\n",
    "np.ceil(((z ** 2) * (pi_hat) * (1 - pi_hat)) / (E ** 2))"
   ]
  },
  {
   "cell_type": "markdown",
   "metadata": {},
   "source": [
    "#### Question 6"
   ]
  },
  {
   "cell_type": "code",
   "execution_count": 12,
   "metadata": {
    "collapsed": false
   },
   "outputs": [
    {
     "data": {
      "text/plain": [
       "(0.17520819870781754, 0.22479180129218249)"
      ]
     },
     "execution_count": 12,
     "metadata": {},
     "output_type": "execute_result"
    }
   ],
   "source": [
    "# find 95% conf interval for population proportion\n",
    "pi_hat = 200/1000.\n",
    "n = 1000\n",
    "z = stats.norm().ppf(.975)\n",
    "sd = np.sqrt((pi_hat * (1 - pi_hat)) / 1000)\n",
    "\n",
    "(pi_hat - z * sd, pi_hat + z * sd)"
   ]
  },
  {
   "cell_type": "markdown",
   "metadata": {},
   "source": [
    "#### Question 7\n",
    "\n",
    "A type I error is when you reject the null hypothesis when it fact it was true. A type II error is when you accept the null hypothesis when in fact it was false."
   ]
  },
  {
   "cell_type": "markdown",
   "metadata": {},
   "source": [
    "#### Question 8\n",
    "\n",
    "$H_0: \\pi = .25$ <br>\n",
    "$H_a: \\pi \\ne .25$ <br>\n",
    "Test statistic: $z = \\frac{\\hat{\\pi} - \\pi_0}{\\sqrt{\\frac{\\pi_0 (1-\\pi_0)}{n}}} \\approx -.7303$"
   ]
  },
  {
   "cell_type": "code",
   "execution_count": 13,
   "metadata": {
    "collapsed": false
   },
   "outputs": [
    {
     "data": {
      "text/plain": [
       "-0.73029674334022132"
      ]
     },
     "execution_count": 13,
     "metadata": {},
     "output_type": "execute_result"
    }
   ],
   "source": [
    "# compute test statistic\n",
    "pi_hat = 8 / 40.\n",
    "pi_0 = .25\n",
    "n = 40\n",
    "\n",
    "(pi_hat - pi_0) / np.sqrt((pi_0 * (1-pi_0)) / n)"
   ]
  },
  {
   "cell_type": "code",
   "execution_count": 15,
   "metadata": {
    "collapsed": false
   },
   "outputs": [
    {
     "data": {
      "text/plain": [
       "0.46520682823678206"
      ]
     },
     "execution_count": 15,
     "metadata": {},
     "output_type": "execute_result"
    }
   ],
   "source": [
    "# compute p-value\n",
    "z = stats.norm()\n",
    "2 * z.cdf(-.7303)"
   ]
  },
  {
   "cell_type": "markdown",
   "metadata": {},
   "source": [
    "The p-value is much greater than any common value of "
   ]
  },
  {
   "cell_type": "code",
   "execution_count": null,
   "metadata": {
    "collapsed": true
   },
   "outputs": [],
   "source": []
  }
 ],
 "metadata": {
  "kernelspec": {
   "display_name": "Python 2",
   "language": "python",
   "name": "python2"
  },
  "language_info": {
   "codemirror_mode": {
    "name": "ipython",
    "version": 2
   },
   "file_extension": ".py",
   "mimetype": "text/x-python",
   "name": "python",
   "nbconvert_exporter": "python",
   "pygments_lexer": "ipython2",
   "version": "2.7.10"
  }
 },
 "nbformat": 4,
 "nbformat_minor": 0
}

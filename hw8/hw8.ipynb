{
 "cells": [
  {
   "cell_type": "markdown",
   "metadata": {},
   "source": [
    "###Question 1\n",
    "\n",
    "a. False\n",
    "b. False"
   ]
  },
  {
   "cell_type": "markdown",
   "metadata": {},
   "source": [
    "###Question 2\n",
    "\n",
    "$H_0: \\mu \\ge 2.3$ \n",
    "\n",
    "$H_a: \\mu < 2.3$ \n",
    "\n",
    "Test statistic: $z = \\frac{\\bar{y} - \\mu_0}{\\sigma / \\sqrt{n}} = \\frac{2.24 - 2.3}{.31 / \\sqrt{200}} = -2.737$\n",
    "\n",
    "Rejection region: This is a left-tailed test for $\\alpha = .05$, so we reject $H_0$ for $z \\le -z_{.05} = -1.645$ \n",
    "\n",
    "So, yes, the data presents sufficient evidence to indicate that the average GPA for off-campus freshmen is lower than the all-freshmen average."
   ]
  },
  {
   "cell_type": "markdown",
   "metadata": {},
   "source": [
    "###Question 3\n",
    "\n",
    "The following statements are true:\n",
    "\n",
    "d. A type II error could have been committed.\n",
    "\n",
    "e. It is impossible to have committed both a type I and type II error.\n",
    "\n",
    "h. Whether any error was committed is not known, but if an error was made, it was Type II."
   ]
  },
  {
   "cell_type": "markdown",
   "metadata": {},
   "source": [
    "###Question 4\n",
    "\n",
    "a. If we take all possible samples (of a given large sample size) from a population, then the distribution of sample means tends to be **_approximately normal_** and the mean of these sample means is equal **_to the population mean_**.\n",
    "\n",
    "b. The smaller the sample size, other things remaining equal, the **_wider and less precise_** the confidence interval.\n",
    "\n",
    "c. The smaller the confidence coefficient, other things remaining equal, the **_narrower and more precise_** the confidence interval.\n",
    "\n",
    "d. The statement \"If random samples of a fixed size are drawn from any population (regardless of the form of the population distribution), as n becomes larger, the distribution of sample means approaches normality,\" is known as the **_central limit theorem_**.\n",
    "\n",
    "e. By failing to accept a null hypothesis that is true, one makes a **_Type I_** error."
   ]
  },
  {
   "cell_type": "markdown",
   "metadata": {},
   "source": [
    "###Question 5\n",
    "\n",
    "The two hypotheses are: 1. The model of plane is safe and 2. The model of plane is not safe. Since we want Type I to be the more serious error, we setup the hypotheses such that $H_0$: The model of plane is not safe, and $H_a$: The model of plane is safe. This means that Type I error would be concluding the plane is safe when in fact it is not. Type II error would be concluding that the plane is not safe when in fact it is. "
   ]
  },
  {
   "cell_type": "markdown",
   "metadata": {},
   "source": [
    "###Question 6\n",
    "\n",
    "$H_0: \\pi \\ge 0.5$ \n",
    "\n",
    "$H_a: \\pi < 0.5$ \n",
    "\n",
    "Test statistic: $z = \\frac{\\hat{\\pi}-\\pi_0}{\\sqrt{\\frac{\\pi_0 (1 - \\pi_0)}{n}}} \\approx -2.137$ \n",
    "\n",
    "p-value = $P(z < -2.137) \\approx 0.0163$"
   ]
  },
  {
   "cell_type": "code",
   "execution_count": 1,
   "metadata": {
    "collapsed": false
   },
   "outputs": [
    {
     "data": {
      "text/plain": [
       "-2.1371868349696443"
      ]
     },
     "execution_count": 1,
     "metadata": {},
     "output_type": "execute_result"
    }
   ],
   "source": [
    "# compute test statistic\n",
    "import numpy as np\n",
    "\n",
    "pi_hat = 12 / 37.\n",
    "pi_0 = .5\n",
    "n = 37\n",
    "\n",
    "(pi_hat - pi_0) / np.sqrt((pi_0 * (1-pi_0)) / n)"
   ]
  },
  {
   "cell_type": "code",
   "execution_count": 2,
   "metadata": {
    "collapsed": false
   },
   "outputs": [
    {
     "data": {
      "text/plain": [
       "0.016290864023588147"
      ]
     },
     "execution_count": 2,
     "metadata": {},
     "output_type": "execute_result"
    }
   ],
   "source": [
    "# compute P(z < -2.1372)\n",
    "import scipy.stats as stats\n",
    "\n",
    "z = stats.norm()\n",
    "z.cdf(-2.1372)"
   ]
  },
  {
   "cell_type": "markdown",
   "metadata": {},
   "source": [
    "Since the p-value $\\le \\alpha = 0.05$, we can conclude Francorp's claim. "
   ]
  },
  {
   "cell_type": "markdown",
   "metadata": {},
   "source": [
    "###Question 7\n",
    "\n",
    "$H_0: \\pi \\le 0.42$ \n",
    "\n",
    "$H_a: \\pi > 0.42$ \n",
    "\n",
    "Test statistic: $z = \\frac{\\hat{\\pi}-\\pi_0}{\\sqrt{\\frac{\\pi_0 (1 - \\pi_0)}{n}}} \\approx 0.7048$ \n",
    "\n",
    "p-value = $P(z > 0.7048) \\approx 0.2405$"
   ]
  },
  {
   "cell_type": "code",
   "execution_count": 3,
   "metadata": {
    "collapsed": false
   },
   "outputs": [
    {
     "data": {
      "text/plain": [
       "0.70478076573528203"
      ]
     },
     "execution_count": 3,
     "metadata": {},
     "output_type": "execute_result"
    }
   ],
   "source": [
    "# compute test statistic\n",
    "pi_hat = 19 / 40.\n",
    "pi_0 = .42\n",
    "n = 40\n",
    "\n",
    "(pi_hat - pi_0) / np.sqrt((pi_0 * (1-pi_0)) / n)"
   ]
  },
  {
   "cell_type": "code",
   "execution_count": 4,
   "metadata": {
    "collapsed": false
   },
   "outputs": [
    {
     "data": {
      "text/plain": [
       "0.24046735428178134"
      ]
     },
     "execution_count": 4,
     "metadata": {},
     "output_type": "execute_result"
    }
   ],
   "source": [
    "# compute P(z > 0.7048)\n",
    "1 - z.cdf(.7048)"
   ]
  },
  {
   "cell_type": "markdown",
   "metadata": {},
   "source": [
    "Since p-value $> \\alpha = 0.024$, we cannot conclude the toothpaste manufacturer's claim. "
   ]
  }
 ],
 "metadata": {
  "kernelspec": {
   "display_name": "Python 2",
   "language": "python",
   "name": "python2"
  },
  "language_info": {
   "codemirror_mode": {
    "name": "ipython",
    "version": 2
   },
   "file_extension": ".py",
   "mimetype": "text/x-python",
   "name": "python",
   "nbconvert_exporter": "python",
   "pygments_lexer": "ipython2",
   "version": "2.7.10"
  }
 },
 "nbformat": 4,
 "nbformat_minor": 0
}

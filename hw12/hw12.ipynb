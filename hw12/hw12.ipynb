{
 "cells": [
  {
   "cell_type": "markdown",
   "metadata": {},
   "source": [
    "### Question 1\n",
    "\n",
    "a) Based on this scatterplot, it does look like a linear model is appropriate\n",
    "\n",
    "[Insert scatterplot image here]\n",
    "\n",
    "b) $y = 12.51 + 35.83x$"
   ]
  },
  {
   "cell_type": "markdown",
   "metadata": {},
   "source": [
    "### Question 2\n",
    "\n",
    "a) The model variance, $\\sigma_e^2 = 1.0692$\n",
    "b) Standard error of $\\hat{\\beta}_1 = 6.96$\n",
    "c) \n",
    "$H_0: \\beta_1 \\le 0$ <br>\n",
    "$H_a: \\beta_1 > 0$ <br>\n",
    "\n",
    "Test statistic: $t = \\frac{\\hat{\\beta}_1 - 0}{s_{\\epsilon} / \\sqrt{S_{xx}}} = \\frac{35.83 - 0}{1.03403 / .1486} \\approx 5.1491$\n",
    "\n",
    "p-value: $P(t > 5.1491) \\approx 0$"
   ]
  },
  {
   "cell_type": "markdown",
   "metadata": {},
   "source": [
    "### Question 3\n",
    "\n",
    "The 95% interval for the mean response of weight gain when x=0.22 is (19.3195, 21.4618).\n",
    "\n",
    "The 95% interval for the weight gain of a particular chick with x=0.22 is (17.8499, 22.9315).\n",
    "\n",
    "[Insert image from minitab for .22 prediction]"
   ]
  },
  {
   "cell_type": "markdown",
   "metadata": {},
   "source": [
    "### Question 4\n",
    "\n",
    "[Insert image from minitab for .84 prediction]\n",
    "\n",
    "We can use the regression equation to predict the weight gain and mean weight gain of a chick with x=0.84, however, since the x value is so far away from the values used in the regression model, there is a considerably higher extrapolation penalty. It's assumed that the weight gain will continue to be related linearly with the amount of lysine consumed by the chick. I imagine that the relationship will not be linear indefinitely, because perhaps the lysine starts becoming toxic at higher doses, or maybe the chicks explode, but I am not able to comment on whether 42.6 grams of weight gain is realistic for a chick or not."
   ]
  },
  {
   "cell_type": "markdown",
   "metadata": {},
   "source": [
    "### Question 5\n",
    "\n",
    "a) $gallons = 177.1 + .5710(miles)$\n",
    "b) Correlation coefficient = 0.953, Coefficient of determination = 0.908"
   ]
  },
  {
   "cell_type": "markdown",
   "metadata": {},
   "source": [
    "### Question 6\n",
    "\n",
    "a) Mean fuel usage (gallons) of all 1,000-mile flights:\n",
    "[insert image of 1000 mile flight prediction]\n",
    "\n",
    "b) Based on the image above, a 95% prediction interval for 1000-mile flight is (648.628, 847.588). The usage of 628 gallons would not be exceptionally low since the data given actually has a mean of 684 with a minimum of 470. A fuel usage of 628 gallons actually falls within the 99% prediction interval, so not that far-fetched."
   ]
  }
 ],
 "metadata": {
  "kernelspec": {
   "display_name": "Python 2",
   "language": "python",
   "name": "python2"
  },
  "language_info": {
   "codemirror_mode": {
    "name": "ipython",
    "version": 2
   },
   "file_extension": ".py",
   "mimetype": "text/x-python",
   "name": "python",
   "nbconvert_exporter": "python",
   "pygments_lexer": "ipython2",
   "version": "2.7.10"
  }
 },
 "nbformat": 4,
 "nbformat_minor": 0
}

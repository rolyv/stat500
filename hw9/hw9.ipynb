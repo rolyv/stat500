{
 "cells": [
  {
   "cell_type": "markdown",
   "metadata": {},
   "source": [
    "### Question 1\n",
    "\n",
    "$H_0: \\pi \\ge .108$ <br>\n",
    "$H_a: \\pi < .108$ <br>\n",
    "Test statistic: $z = \\frac{\\hat{\\pi}-\\pi_0}{\\sqrt{\\frac{\\pi_0 (1 - \\pi_0)}{n}}} \\approx -2.903 $ <br>\n",
    "$\\alpha = .01  \\rightarrow -z_{\\alpha} \\approx -2.326$\n",
    "\n",
    "Since $z \\le -z_{\\alpha}$, we conclude that there is not enough evidence to support the research hypothesis."
   ]
  },
  {
   "cell_type": "code",
   "execution_count": 11,
   "metadata": {
    "collapsed": false
   },
   "outputs": [
    {
     "data": {
      "text/plain": [
       "-2.9031459656621919"
      ]
     },
     "execution_count": 11,
     "metadata": {},
     "output_type": "execute_result"
    }
   ],
   "source": [
    "# compute test statistic\n",
    "import numpy as np\n",
    "\n",
    "pi_hat = 15 / 278.\n",
    "pi_0 = .108\n",
    "n = 278\n",
    "\n",
    "(pi_hat - pi_0) / np.sqrt((pi_0 * (1-pi_0)) / n)"
   ]
  },
  {
   "cell_type": "markdown",
   "metadata": {},
   "source": [
    "### Question 2\n",
    "\n",
    "$H_0: \\pi = .791$ <br>\n",
    "$H_a: \\pi \\ne .791$ <br>\n",
    "Test statistic: $z = \\frac{\\hat{\\pi}-\\pi_0}{\\sqrt{\\frac{\\pi_0 (1 - \\pi_0)}{n}}} \\approx -1.252 $ <br>\n",
    "$\\alpha = .05$"
   ]
  },
  {
   "cell_type": "code",
   "execution_count": 12,
   "metadata": {
    "collapsed": false
   },
   "outputs": [
    {
     "data": {
      "text/plain": [
       "-1.2521492963616709"
      ]
     },
     "execution_count": 12,
     "metadata": {},
     "output_type": "execute_result"
    }
   ],
   "source": [
    "# compute test statistic\n",
    "import numpy as np\n",
    "\n",
    "pi_hat = 151 / 200.\n",
    "pi_0 = .791\n",
    "n = 200\n",
    "\n",
    "(pi_hat - pi_0) / np.sqrt((pi_0 * (1-pi_0)) / n)"
   ]
  },
  {
   "cell_type": "code",
   "execution_count": 13,
   "metadata": {
    "collapsed": false
   },
   "outputs": [
    {
     "data": {
      "text/plain": [
       "0.21056986396317057"
      ]
     },
     "execution_count": 13,
     "metadata": {},
     "output_type": "execute_result"
    }
   ],
   "source": [
    "# compute p-value\n",
    "import scipy.stats as stats\n",
    "\n",
    "z = stats.norm()\n",
    "2 * z.cdf(-1.252)"
   ]
  },
  {
   "cell_type": "markdown",
   "metadata": {},
   "source": [
    "*p*-value is .21 which is greater than the $\\alpha$ value of .05, therefore we do not reject the null hypothesis. There is not sufficient evidence to conclude that this year's percentage is different from the 1995 figure."
   ]
  },
  {
   "cell_type": "markdown",
   "metadata": {},
   "source": [
    "### Question 3\n",
    "\n",
    "$H_0: \\mu \\ge 30$ <br>\n",
    "$H_a: \\mu < 30$ <br>\n",
    "Test statistic: $t = \\frac{\\bar{x} - \\mu_0}{s/\\sqrt{n}} \\approx -4.413$ <br>\n",
    "$\\alpha = .01$"
   ]
  },
  {
   "cell_type": "code",
   "execution_count": 23,
   "metadata": {
    "collapsed": false
   },
   "outputs": [
    {
     "data": {
      "text/plain": [
       "-4.413375989076421"
      ]
     },
     "execution_count": 23,
     "metadata": {},
     "output_type": "execute_result"
    }
   ],
   "source": [
    "# compute test statistic\n",
    "pounds_lost = np.array(\n",
    "    [3,4,5,5,6,7,7,10,10,10,11,12,15,15,18,18,20,23,24,25,25,28,29,30,35,40,41,44,45])\n",
    "\n",
    "x_bar = pounds_lost.mean()\n",
    "n = len(pounds_lost)\n",
    "s = np.sqrt(sum([(x - x_bar) ** 2 for x in pounds_lost]) / (n - 1))\n",
    "\n",
    "(x_bar - 30) / (s / np.sqrt(n))"
   ]
  },
  {
   "cell_type": "code",
   "execution_count": 27,
   "metadata": {
    "collapsed": false
   },
   "outputs": [
    {
     "data": {
      "text/plain": [
       "6.883791438269252e-05"
      ]
     },
     "execution_count": 27,
     "metadata": {},
     "output_type": "execute_result"
    }
   ],
   "source": [
    "# compute p-value\n",
    "t = stats.t(n - 1)\n",
    "t.cdf(-4.413)"
   ]
  },
  {
   "cell_type": "markdown",
   "metadata": {},
   "source": [
    "*p*-value is approximately 0 which is less than $\\alpha = .01$. Therefore, we can reject the null hypothesis: $\\mu \\ge 30$"
   ]
  },
  {
   "cell_type": "markdown",
   "metadata": {},
   "source": [
    "### Question 4\n",
    "\n",
    "$H_0: \\mu \\ge 20$ <br>\n",
    "$H_a: \\mu < 20$ <br>\n",
    "Test statistic: $z = \\frac{\\bar{x} - \\mu_0}{s / \\sqrt{n}} \\approx -2.695$ <br>\n",
    "$\\alpha = .05 \\rightarrow -z_{\\alpha} \\approx -1.645$"
   ]
  },
  {
   "cell_type": "code",
   "execution_count": 28,
   "metadata": {
    "collapsed": false
   },
   "outputs": [
    {
     "data": {
      "text/plain": [
       "-2.6949800070178411"
      ]
     },
     "execution_count": 28,
     "metadata": {},
     "output_type": "execute_result"
    }
   ],
   "source": [
    "# compute test statistic\n",
    "x_bar = 16.2\n",
    "s = 8.1\n",
    "n = 33\n",
    "mu_0 = 20\n",
    "\n",
    "(x_bar - mu_0) / (s / np.sqrt(n))"
   ]
  },
  {
   "cell_type": "markdown",
   "metadata": {},
   "source": [
    "Since test statistic is less than $-z_{\\alpha}$, it falls in the rejection region. Therefore we can reject the null hypothesis."
   ]
  },
  {
   "cell_type": "markdown",
   "metadata": {},
   "source": [
    "### Question 5\n",
    "\n",
    "$H_0: \\mu = 29$ <br>\n",
    "$H_a: \\mu \\ne 29$ <br>\n",
    "Test statistic: $t = \\frac{\\bar{x} - \\mu_0}{s / \\sqrt{n}} \\approx 2.512$ <br>\n",
    "$\\alpha = .02$"
   ]
  },
  {
   "cell_type": "code",
   "execution_count": 29,
   "metadata": {
    "collapsed": false
   },
   "outputs": [
    {
     "data": {
      "text/plain": [
       "2.5120169662552709"
      ]
     },
     "execution_count": 29,
     "metadata": {},
     "output_type": "execute_result"
    }
   ],
   "source": [
    "# compute test statistic\n",
    "x_bar = 33.02\n",
    "s = 8.16\n",
    "n = 26\n",
    "mu_0 = 29\n",
    "\n",
    "(x_bar - mu_0) / (s / np.sqrt(n))"
   ]
  },
  {
   "cell_type": "code",
   "execution_count": 33,
   "metadata": {
    "collapsed": false
   },
   "outputs": [
    {
     "data": {
      "text/plain": [
       "(-2.4851071754106417, 2.4851071754106413)"
      ]
     },
     "execution_count": 33,
     "metadata": {},
     "output_type": "execute_result"
    }
   ],
   "source": [
    "# compute rejection region\n",
    "t = stats.t(n - 1)\n",
    "t.ppf(.01), t.ppf(.99)"
   ]
  },
  {
   "cell_type": "markdown",
   "metadata": {},
   "source": [
    "The test statistic falls in the rejection region since it's less than $-t_{.01}$. Therefore there is evidence to doubt the supervisor's claim."
   ]
  },
  {
   "cell_type": "markdown",
   "metadata": {},
   "source": [
    "### Question 6\n",
    "\n",
    "$H_0: \\mu \\le 675$ <br>\n",
    "$H_a: \\mu > 675$ <br>\n",
    "Test statistic: $z = \\frac{\\bar{x} - \\mu_0}{s / \\sqrt{n}} \\approx 2.348$ <br>\n",
    "$\\alpha = .05 \\rightarrow z_{.05} = 1.645$"
   ]
  },
  {
   "cell_type": "code",
   "execution_count": 42,
   "metadata": {
    "collapsed": false
   },
   "outputs": [
    {
     "data": {
      "text/plain": [
       "(712.0333333333333, 86.371883728737643)"
      ]
     },
     "execution_count": 42,
     "metadata": {},
     "output_type": "execute_result"
    }
   ],
   "source": [
    "# compute sample statistics\n",
    "a = np.array([730,681,807,747,728,561,696,710,641,848,672,740,818,725,694,\n",
    "              894,674,683,695,803,802,497,653,600,729,812,751,730,635,605])\n",
    "\n",
    "a.mean(), a.std(ddof=1)"
   ]
  },
  {
   "cell_type": "code",
   "execution_count": 43,
   "metadata": {
    "collapsed": false
   },
   "outputs": [
    {
     "data": {
      "text/plain": [
       "2.3484484962698282"
      ]
     },
     "execution_count": 43,
     "metadata": {},
     "output_type": "execute_result"
    }
   ],
   "source": [
    "# compute test statistic\n",
    "x_bar = a.mean()\n",
    "s = a.std(ddof=1)\n",
    "n = len(a)\n",
    "mu_0 = 675\n",
    "\n",
    "(x_bar - mu_0) / (s / np.sqrt(n))"
   ]
  },
  {
   "cell_type": "markdown",
   "metadata": {},
   "source": [
    "Using the rejection region approach, the test statistic is greater than $z_{.05}$ thus we can reject the null hypothesis."
   ]
  },
  {
   "cell_type": "code",
   "execution_count": 49,
   "metadata": {
    "collapsed": false
   },
   "outputs": [
    {
     "data": {
      "text/plain": [
       "0.0094372606524680824"
      ]
     },
     "execution_count": 49,
     "metadata": {},
     "output_type": "execute_result"
    }
   ],
   "source": [
    "# compute p-value P(z >= 2.348)\n",
    "1 - stats.norm().cdf(2.348)"
   ]
  },
  {
   "cell_type": "markdown",
   "metadata": {},
   "source": [
    "The *p*-value is less than $\\alpha$, therefore we can reject the null hypothesis."
   ]
  },
  {
   "cell_type": "markdown",
   "metadata": {},
   "source": [
    "### Question 7\n",
    "\n",
    "![power_curve](images/powercurve.png)\n",
    "\n",
    "We need to sample 26 bottles of detergent so that we can test the claim with 80% power at 1% level of significance."
   ]
  }
 ],
 "metadata": {
  "kernelspec": {
   "display_name": "Python 2",
   "language": "python",
   "name": "python2"
  },
  "language_info": {
   "codemirror_mode": {
    "name": "ipython",
    "version": 2
   },
   "file_extension": ".py",
   "mimetype": "text/x-python",
   "name": "python",
   "nbconvert_exporter": "python",
   "pygments_lexer": "ipython2",
   "version": "2.7.10"
  }
 },
 "nbformat": 4,
 "nbformat_minor": 0
}

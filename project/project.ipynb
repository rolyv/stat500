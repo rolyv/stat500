{
 "cells": [
  {
   "cell_type": "markdown",
   "metadata": {},
   "source": [
    "### Question 1"
   ]
  },
  {
   "cell_type": "code",
   "execution_count": 61,
   "metadata": {
    "collapsed": false
   },
   "outputs": [
    {
     "data": {
      "text/plain": [
       "count     44.000000\n",
       "mean     143.954545\n",
       "std       28.788688\n",
       "min      101.000000\n",
       "25%      119.500000\n",
       "50%      140.000000\n",
       "75%      165.000000\n",
       "max      218.000000\n",
       "Name: Weight, dtype: float64"
      ]
     },
     "execution_count": 61,
     "metadata": {},
     "output_type": "execute_result"
    }
   ],
   "source": [
    "import numpy as np\n",
    "import scipy.stats as stats\n",
    "import pandas as pd\n",
    "import matplotlib.pyplot as plt\n",
    "\n",
    "data = pd.read_csv(\"projectdata.csv\")\n",
    "data.Weight.describe()"
   ]
  },
  {
   "cell_type": "code",
   "execution_count": 62,
   "metadata": {
    "collapsed": false
   },
   "outputs": [
    {
     "data": {
      "image/png": "[encoded data removed]",
      "text/plain": [
       "<matplotlib.figure.Figure at 0x7f1b95153150>"
      ]
     },
     "metadata": {},
     "output_type": "display_data"
    }
   ],
   "source": [
    "%matplotlib inline\n",
    "data.boxplot('Weight', return_type='axes')\n",
    "plt.show()"
   ]
  },
  {
   "cell_type": "code",
   "execution_count": 63,
   "metadata": {
    "collapsed": false
   },
   "outputs": [
    {
     "data": {
      "image/png": "[encoded data removed]",
      "text/plain": [
       "<matplotlib.figure.Figure at 0x7f1b944099d0>"
      ]
     },
     "metadata": {},
     "output_type": "display_data"
    }
   ],
   "source": [
    "data.hist('Weight')\n",
    "plt.show()"
   ]
  },
  {
   "cell_type": "markdown",
   "metadata": {},
   "source": [
    "There does not appear to be any mistaken entries for the weight data."
   ]
  },
  {
   "cell_type": "markdown",
   "metadata": {},
   "source": [
    "### Question 2"
   ]
  },
  {
   "cell_type": "code",
   "execution_count": 64,
   "metadata": {
    "collapsed": false,
    "scrolled": true
   },
   "outputs": [],
   "source": [
    "data['Gender'] = data['Gender'].astype('category')"
   ]
  },
  {
   "cell_type": "code",
   "execution_count": 65,
   "metadata": {
    "collapsed": false
   },
   "outputs": [
    {
     "data": {
      "text/plain": [
       "count     44\n",
       "unique     3\n",
       "top        F\n",
       "freq      25\n",
       "Name: Gender, dtype: object"
      ]
     },
     "execution_count": 65,
     "metadata": {},
     "output_type": "execute_result"
    }
   ],
   "source": [
    "data.Gender.describe()"
   ]
  },
  {
   "cell_type": "code",
   "execution_count": 66,
   "metadata": {
    "collapsed": false
   },
   "outputs": [
    {
     "data": {
      "image/png": "[encoded data removed]",
      "text/plain": [
       "<matplotlib.figure.Figure at 0x7f1b9456e190>"
      ]
     },
     "metadata": {},
     "output_type": "display_data"
    }
   ],
   "source": [
    "data.Gender[0] = np.nan\n",
    "counts = data.Gender.value_counts()\n",
    "c = ['rosybrown','slategray','darkseagreen']\n",
    "plt.pie(counts, labels=['F','M', 'Unknown'], autopct='%1.1f%%', colors=c)\n",
    "plt.show()"
   ]
  },
  {
   "cell_type": "markdown",
   "metadata": {},
   "source": [
    "Only one bad value for Gender: the first row of the data has an * presumably denoting unknown or unreported Gender."
   ]
  },
  {
   "cell_type": "markdown",
   "metadata": {},
   "source": [
    "### Question 3"
   ]
  },
  {
   "cell_type": "markdown",
   "metadata": {
    "collapsed": true
   },
   "source": [
    "The two-sample t-test can be used to compare the weight of females, $\\mu_f$ vs that of males, $\\mu_m$. \n",
    "\n",
    "$H_0: \\mu_f - \\mu_m \\le 0$ <br>\n",
    "$H_a: \\mu_f - \\mu_m > 0$ <br>\n",
    "$\\alpha = .01$"
   ]
  },
  {
   "cell_type": "code",
   "execution_count": 67,
   "metadata": {
    "collapsed": false
   },
   "outputs": [
    {
     "data": {
      "text/plain": [
       "(25, 18)"
      ]
     },
     "execution_count": 67,
     "metadata": {},
     "output_type": "execute_result"
    }
   ],
   "source": [
    "#Count # of categories\n",
    "females = len(data.Gender[data.Gender == 'F'])\n",
    "males = len(data.Gender[data.Gender == 'M'])\n",
    "(females, males)"
   ]
  },
  {
   "cell_type": "markdown",
   "metadata": {},
   "source": [
    "Since both $n_1$ and $n_2$ are less than 30, we need to check normality assumptions.\n",
    "\n",
    "[Insert prob_plot image]"
   ]
  },
  {
   "cell_type": "markdown",
   "metadata": {},
   "source": [
    "Next, we need to decide whether to use pooled variance or separate variance. Since the size of each group is different and the standard deviations are off by about 6 lbs, we will use the non-pooled t-test.\n",
    "\n",
    "[Insert image of 2 sample t-test]\n",
    "\n",
    "Since the p-value > $\\alpha = .01$, we cannot reject the null hypothesis. We conclude that the mean weight of males is greater than or equal to that of females."
   ]
  },
  {
   "cell_type": "markdown",
   "metadata": {},
   "source": [
    "### Question 4\n",
    "\n",
    "The paired t-test can be used to compare the difference between the current weight and the ideal weight for each participant in the survey. \n",
    "\n",
    "I believe that most people wish to lose weight, therefore I establish my hypotheses:\n",
    "\n",
    "$H_0: \\mu_d = \\mu_{current} - \\mu_{ideal} \\le 0$ <br>\n",
    "$H_a: \\mu_d = \\mu_{current} - \\mu_{ideal} > 0$ <br>\n",
    "$\\alpha = .015$ <br>\n",
    "degrees of freedom = 43 - 1 = 42"
   ]
  },
  {
   "cell_type": "code",
   "execution_count": 72,
   "metadata": {
    "collapsed": false
   },
   "outputs": [
    {
     "data": {
      "text/plain": [
       "7.930232558139535"
      ]
     },
     "execution_count": 72,
     "metadata": {},
     "output_type": "execute_result"
    }
   ],
   "source": [
    "# compute mean difference\n",
    "(data.Weight - data[\"Ideal-weight\"]).mean()"
   ]
  },
  {
   "cell_type": "code",
   "execution_count": 75,
   "metadata": {
    "collapsed": false
   },
   "outputs": [
    {
     "data": {
      "text/plain": [
       "12.821847702888126"
      ]
     },
     "execution_count": 75,
     "metadata": {},
     "output_type": "execute_result"
    }
   ],
   "source": [
    "# compute std dev\n",
    "(data.Weight - data[\"Ideal-weight\"]).std(ddof=1)"
   ]
  },
  {
   "cell_type": "markdown",
   "metadata": {},
   "source": [
    "[Insert paired data image]\n",
    "\n",
    "p-value = 0.0000 < 0.015, so we can reject $H_0$ and conclude that people's ideal weight is less than their current weight."
   ]
  },
  {
   "cell_type": "markdown",
   "metadata": {},
   "source": [
    "### Question 5\n",
    "\n",
    "The data for this question is paired and is calling for a one-tailed test. We already calculated the standard deviation in the previous question, 12.8218. \n",
    "\n",
    "[Insert image for weight loss power]\n",
    "\n",
    "Based on the power curve, we would need to sample 1018 students."
   ]
  },
  {
   "cell_type": "markdown",
   "metadata": {},
   "source": [
    "### Question 6\n",
    "\n",
    "For the two qualitative variables, I chose gender and favorite sport. I wanted to test if there was dependence between these two variables. Since Hockey did not have any respondents, I excluded it from the table since it didn't have any effect on the test.\n",
    "\n",
    "|        | Football | Basketball | Other | Total |\n",
    "|--------|----------|------------|-------|-------|\n",
    "| Male   | 5        | 4          | 9     | 18    |\n",
    "| Female | 5        | 6          | 14    | 25    |\n",
    "| Total  | 10       | 10         | 23    | 43    |\n",
    "\n",
    "[Insert chi square results]\n",
    "\n",
    "The results of the Chi-square test indicate that we cannot reject the null hypothesis that the values are independent. However, since there are 2 cells (33.3%) with expected count < 5, we cannot trust the result."
   ]
  }
 ],
 "metadata": {
  "kernelspec": {
   "display_name": "Python 2",
   "language": "python",
   "name": "python2"
  },
  "language_info": {
   "codemirror_mode": {
    "name": "ipython",
    "version": 2
   },
   "file_extension": ".py",
   "mimetype": "text/x-python",
   "name": "python",
   "nbconvert_exporter": "python",
   "pygments_lexer": "ipython2",
   "version": "2.7.10"
  }
 },
 "nbformat": 4,
 "nbformat_minor": 0
}
